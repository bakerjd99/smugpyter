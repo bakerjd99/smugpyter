{
 "cells": [
  {
   "cell_type": "markdown",
   "metadata": {},
   "source": [
    "Using `SmugPyter` Batch Scripts\n",
    "===============\n",
    "\n",
    "![](jupysmug.png)"
   ]
  },
  {
   "cell_type": "markdown",
   "metadata": {},
   "source": [
    "### Maintaining Local SmugMirror Directories\n",
    "\n",
    "`SmugPyter` maintains local directories of SmugMug metadata. The directories\n",
    "mirror your online folders and albums and contain:\n",
    "\n",
    "1. Metadata in simple CSV TAB delimited text files.\n",
    "\n",
    "2. Sample images.\n",
    "\n",
    "This information is used to set:\n",
    "\n",
    "1. Print size keywords.\n",
    "\n",
    "2. Geotag keywords.\n",
    "\n",
    "3. Dominant color keywords.\n",
    "\n",
    "The SmugMirror is primarily an input to other programs including version control systems like `Git` and `Fossil` that\n",
    "can track changes in text files.\n",
    "\n",
    "Keeping local directories current is simple matter of running a few batch scripts."
   ]
  },
  {
   "cell_type": "markdown",
   "metadata": {},
   "source": [
    "### Clearing Changes Files\n",
    "\n",
    "Keyword changes are staged in changes files. Changes files follow this naming convention.\n",
    "\n",
    "\n",
    "Before updating local files it's a good idea to empty existing changes files."
   ]
  },
  {
   "cell_type": "code",
   "execution_count": 1,
   "metadata": {},
   "outputs": [],
   "source": [
    "import sys\n",
    "\n",
    "# add smugpyter scripts to path\n",
    "sys.path.append('C:\\\\mp\\\\jupyter\\\\smugpyter\\\\notebooks')\n",
    "#print(sys.path)\n",
    "\n",
    "import smugpyter "
   ]
  },
  {
   "cell_type": "code",
   "execution_count": 2,
   "metadata": {},
   "outputs": [
    {
     "name": "stdout",
     "output_type": "stream",
     "text": [
      "(81, 81)\n"
     ]
    }
   ],
   "source": [
    "# Empty all CSV changes files: assumes (smugpyter) location is on sys.path.\n",
    "smug = smugpyter.SmugPyter()\n",
    "print(smug.reset_all_changes_files(smug.local_directory))"
   ]
  },
  {
   "cell_type": "markdown",
   "metadata": {},
   "source": [
    "Reseting changes files is also available via the batch script.\n",
    "\n",
    "     ResetAllChangesFiles.bat"
   ]
  },
  {
   "cell_type": "markdown",
   "metadata": {},
   "source": [
    "### Refreshing Album Metadata\n",
    "\n",
    "The leaf directories in SmugMirror contain CSV TAB delimited metadata text files that contain\n",
    "information about albums, images and dates. The files are named like:\n",
    "\n",
    "    ainfo-<deblanked-album-name>-<smugmug-album-key>-<key-case-mask>.txt\n",
    "    manifest-<deblanked-album-name>-<smugmug-album-key>-<key-case-mask>.txt\n",
    "    realdate-<deblanked-album-name>-<smugmug-album-key>-<key-case-mask>.txt\n",
    "    \n",
    "Here are some examples:\n",
    "    \n",
    "    ainfo-BeenThereDoneThat-w5PKZp-e.txt\n",
    "    manifest-BeenThereDoneThat-w5PKZp-e.txt\n",
    "    realdate-BeenThereDoneThat-w5PKZp-e.txt\n",
    "\n",
    "These files are key inputs to functions in `SmugPyter` and its subclasses. Here is how you keep them updated."
   ]
  },
  {
   "cell_type": "code",
   "execution_count": null,
   "metadata": {},
   "outputs": [],
   "source": [
    "# Refresh album TAB delimited files: assumes (smugpyter) location is on sys.path.\n",
    "import smugpyter\n",
    "\n",
    "smug = smugpyter.SmugPyter()\n",
    "smug.download_album_metadata()"
   ]
  },
  {
   "cell_type": "markdown",
   "metadata": {},
   "source": [
    "Refreshing metadata is also available via the batch script.\n",
    "\n",
    "     RefreshMetadata.bat"
   ]
  },
  {
   "cell_type": "markdown",
   "metadata": {},
   "source": [
    "### Refreshing Recently Changed Metadata\n",
    "\n",
    "Album metadata is fairly stable. Usually you only want to collect recently changed albums.\n",
    "The following gathers recent changes. The default is to look fourteen days back. The default is\n",
    "set in the config file."
   ]
  },
  {
   "cell_type": "code",
   "execution_count": null,
   "metadata": {},
   "outputs": [],
   "source": [
    "# Refresh album TAB delimited files of recently changed online galleries.\n",
    "import smugpyter\n",
    "\n",
    "smug = smugpyter.SmugPyter()\n",
    "\n",
    "# smug.days_before set in config \n",
    "smug.download_album_metadata(smug.days_before)"
   ]
  },
  {
   "cell_type": "markdown",
   "metadata": {},
   "source": [
    "Refreshing recently changed metadata is also available via the batch script.\n",
    "\n",
    "     RefreshRecentMetadata.bat"
   ]
  },
  {
   "cell_type": "markdown",
   "metadata": {},
   "source": [
    "### Collecting Sample Images from SmugMug\n",
    "\n",
    "Before image color and geottag keys can be computed it's necessary to gather sample images\n",
    "from SmugMug. Sample images are small `jpeg` versions of larger online images. When sample images\n",
    "are downloaded they are renamed as:\n",
    "\n",
    "     <smugmug-image-key>-<key-case-mask>-<file-name-with-blanks-replaced-with-hyphens>.jpg\n",
    "     \n",
    "Here are some examples.\n",
    "\n",
    "     vF4Bwpg-14-ghanasco-track-team-1977.jpg\n",
    "     ZF5SPhL-31-me-near-three-island-crossing.jpg\n",
    "     PSdGFkr-30-aub-porthole-sea-tower.jpg\n",
    "\n",
    "The SmugMug image key is unique across all images for a given user account. The SmugMug image\n",
    "key is case sensitive hence a case mask is attached to preserve the case on systems like\n",
    "Windows that often ignore file name case."
   ]
  },
  {
   "cell_type": "code",
   "execution_count": null,
   "metadata": {},
   "outputs": [],
   "source": [
    "# Download new sample images: assumes (smugpyter) is on sys.path.\n",
    "# Run after refreshing metadata files.\n",
    "import smugpyter\n",
    "\n",
    "smug = smugpyter.SmugPyter()\n",
    "#smug.yammer = True\n",
    "print(smug.update_all_sample_images(smug.local_directory))"
   ]
  },
  {
   "cell_type": "markdown",
   "metadata": {},
   "source": [
    "Sample images can also be collected with the batch file.\n",
    "\n",
    "     UpdateSampleImages.bat"
   ]
  },
  {
   "cell_type": "markdown",
   "metadata": {},
   "source": [
    "### Computing Geotag, Print Size and Dominant Color Keys\n",
    "\n",
    "Getotag, print size and dominant color keys are computed with:"
   ]
  },
  {
   "cell_type": "code",
   "execution_count": 3,
   "metadata": {},
   "outputs": [
    {
     "name": "stdout",
     "output_type": "stream",
     "text": [
      "SmugPyter started: Mon Feb 20 10:56:35 2023\n",
      "(81, 81)\n",
      "processing geotag keys\n",
      "unable to reverse geocode -34.217588888889,169.25476111111\n",
      "unable to reverse geocode -34.216702777778,169.21832222222\n",
      "(6775, 1)\n",
      "processing print size leys\n",
      "(6775, 210)\n"
     ]
    }
   ],
   "source": [
    "# Update CSV TAB delimited geotag, print size and color keyword \n",
    "# changes files. Run after refreshing metadata files and updating\n",
    "# sample images. Assumes (smugpyter, geotagkeys, printkeys, colorkeys)\n",
    "# are on sys.path.\n",
    "\n",
    "import geotagkeys\n",
    "import printkeys\n",
    "import colorkeys\n",
    "\n",
    "# subclasses of SmugPyter\n",
    "gk = geotagkeys.GeotagKeys(log_start=True)\n",
    "pk = printkeys.PrintKeys()\n",
    "ck = colorkeys.ColorKeys(verbose=True)\n",
    "\n",
    "# local directory in config - set in superclass\n",
    "root = pk.local_directory\n",
    "\n",
    "# reset all changes files\n",
    "print(gk.reset_all_changes_files(root))\n",
    "\n",
    "# update changes files - order matters\n",
    "print(gk.update_all_geotag_keyword_changes(root))\n",
    "\n",
    "pk.merge_changes = True\n",
    "print(pk.update_all_size_keyword_changes(root))"
   ]
  },
  {
   "cell_type": "markdown",
   "metadata": {},
   "source": [
    "Color keys is failing (**Feb 20, 2023**) - I recently upgraded my Anaconada system\n",
    "and as usual some older scripts stopped working. The source of the problem was a change\n",
    "of case in the name of a `webcolors` function - jesus people - you don't rename common utilities\n",
    "without a really good reason!"
   ]
  },
  {
   "cell_type": "code",
   "execution_count": 4,
   "metadata": {},
   "outputs": [
    {
     "name": "stdout",
     "output_type": "stream",
     "text": [
      "processing color keys\n",
      "me omar sharif kanab.jpg | 0_darkslategray; 4x5; geotagged; kanab; me; omar; sharif; usa; utah\n",
      "(6775, 1)\n"
     ]
    }
   ],
   "source": [
    "ck.merge_changes = True\n",
    "print(ck.update_all_color_keyword_changes(root))"
   ]
  },
  {
   "cell_type": "markdown",
   "metadata": {},
   "source": [
    "Finally, geotag, print size and color keywords can be set with:\n",
    "\n",
    "     UpdateSmugKeywords.bat"
   ]
  },
  {
   "cell_type": "markdown",
   "metadata": {},
   "source": [
    "### API PATCH PROBLEMS: Posting Key Change to SmugMug\n",
    "\n",
    "Prior calculations write key changes to change files in each sample image\n",
    "directory and to text files in the root. The root files are:\n",
    "\n",
    "     GeoChanges.txt\n",
    "     SizeChanges.txt\n",
    "     AllChanges.txt\n",
    "     \n",
    "`GeoChanges.txt` and `SizeChanges.txt` are loaded before `AllChanges.txt`.  All key changes\n",
    "posted to SmugMug come from `AllChanges.txt`\n",
    "\n",
    "**NOTE: SMUGMUG PATCH API REQUESTS ARE BROKEN AGAIN!** I have\n",
    "been posting key changes by cutting and pasting `smugpyter` outputs to\n",
    "SmugMug by hand. Hence, the changes to limit and centralize all changes\n",
    "to one spot.\n",
    "\n",
    "**TODO: Find out why `PATCH` does not work!**"
   ]
  },
  {
   "cell_type": "markdown",
   "metadata": {},
   "source": [
    "After setting local changes files the keywords can be pushed to SmugMug with:"
   ]
  },
  {
   "cell_type": "code",
   "execution_count": null,
   "metadata": {},
   "outputs": [],
   "source": [
    "# Run after refreshing metadata files and updating keyword changes files: \n",
    "# assumes (smugpyter) is on sys.path\n",
    "import smugpyter\n",
    "\n",
    "#smug = smugpyter.SmugPyter()\n",
    "#print(smug.update_all_keyword_changes(smug.local_directory))"
   ]
  },
  {
   "cell_type": "markdown",
   "metadata": {},
   "source": [
    "Pushing keyword changes to SmugMug can be done with:\n",
    "\n",
    "    ChangeKeywords.bat"
   ]
  },
  {
   "cell_type": "markdown",
   "metadata": {},
   "source": [
    "## Next on the Agenda!\n",
    "\n",
    "The local directories maintained by `SmugPyter` are mainly inputs to other programs. I am already\n",
    "using these directories to build an SQLite database with J. See the group `MirrorXref` in \n",
    "the [JOD](https://analyzethedatanotthedrivel.org/the-jod-page/) dictionary [smugpyter](https://github.com/bakerjd99/joddumps) for details.\n",
    "\n",
    "Remember, always [Analyze the Data not the Drivel](https://analyzethedatanotthedrivel.org/).\n",
    "\n",
    "John Baker, Meridian Idaho"
   ]
  }
 ],
 "metadata": {
  "kernelspec": {
   "display_name": "Python 3 (ipykernel)",
   "language": "python",
   "name": "python3"
  },
  "language_info": {
   "codemirror_mode": {
    "name": "ipython",
    "version": 3
   },
   "file_extension": ".py",
   "mimetype": "text/x-python",
   "name": "python",
   "nbconvert_exporter": "python",
   "pygments_lexer": "ipython3",
   "version": "3.9.13"
  }
 },
 "nbformat": 4,
 "nbformat_minor": 2
}
