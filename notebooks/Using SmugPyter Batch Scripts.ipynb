{
 "cells": [
  {
   "cell_type": "markdown",
   "metadata": {},
   "source": [
    "Using `SmugPyter` Batch Scripts\n",
    "===============\n",
    "\n",
    "![](jupysmug.png)"
   ]
  },
  {
   "cell_type": "markdown",
   "metadata": {},
   "source": [
    "### Maintaining Local SmugMirror Directories\n",
    "\n",
    "`SmugPyter` maintains local directories of SmugMug metadata. The directories\n",
    "mirror your online folders and albums and contain:\n",
    "\n",
    "1. Metadata in simple CSV TAB delimited text files.\n",
    "\n",
    "2. Sample images.\n",
    "\n",
    "This information is used to set:\n",
    "\n",
    "1. Print size keywords.\n",
    "\n",
    "2. Geotag keywords.\n",
    "\n",
    "3. Dominant color keywords.\n",
    "\n",
    "The SmugMirror is primarily an input to other programs including version control systems like `Git` and `Fossil` that\n",
    "can track changes in text files.\n",
    "\n",
    "Keeping local directories current is simple matter of running a few batch scripts."
   ]
  },
  {
   "cell_type": "markdown",
   "metadata": {},
   "source": [
    "### Clearing Changes Files\n",
    "\n",
    "Keyword changes are staged in changes files. Changes files follow this naming convention.\n",
    "\n",
    "\n",
    "Before updating local files it's a good idea to empty existing changes files."
   ]
  },
  {
   "cell_type": "code",
   "execution_count": 1,
   "metadata": {},
   "outputs": [
    {
     "name": "stdout",
     "output_type": "stream",
     "text": [
      "(61, 61)\n"
     ]
    }
   ],
   "source": [
    "# Empty all CSV changes files: assumes (smugpyter) location is on sys.path.\n",
    "import smugpyter\n",
    "\n",
    "smug = smugpyter.SmugPyter()\n",
    "print(smug.reset_all_changes_files(smug.local_directory))"
   ]
  },
  {
   "cell_type": "markdown",
   "metadata": {},
   "source": [
    "Reseting changes files is also available via the batch script.\n",
    "\n",
    "     ResetAllChangesFiles.bat"
   ]
  },
  {
   "cell_type": "markdown",
   "metadata": {},
   "source": [
    "### Refreshing Album Metadata\n",
    "\n",
    "The leaf directories in SmugMirror contain CSV TAB delimited metadata text files that contain\n",
    "information about albums, images and dates. The files are named like:\n",
    "\n",
    "    ainfo-<deblanked-album-name>-<smugmug-album-key>-<key-case-mask>.txt\n",
    "    manifest-<deblanked-album-name>-<smugmug-album-key>-<key-case-mask>.txt\n",
    "    realdate-<deblanked-album-name>-<smugmug-album-key>-<key-case-mask>.txt\n",
    "    \n",
    "Here are some examples:\n",
    "    \n",
    "    ainfo-BeenThereDoneThat-w5PKZp-e.txt\n",
    "    manifest-BeenThereDoneThat-w5PKZp-e.txt\n",
    "    realdate-BeenThereDoneThat-w5PKZp-e.txt\n",
    "\n",
    "These files are key inputs to functions in `SmugPyter` and its subclasses. Here is how you keep them updated."
   ]
  },
  {
   "cell_type": "code",
   "execution_count": 2,
   "metadata": {},
   "outputs": [
    {
     "name": "stdout",
     "output_type": "stream",
     "text": [
      "Collecting all albums ... \n",
      "Scanning 64 albums\n",
      "visiting 1/64 Hawaii 2018 ...\n",
      "visiting 2/64 The Way We Were ...\n",
      "visiting 3/64 Idaho Instants ...\n",
      "visiting 4/64 Panoramas ...\n",
      "visiting 5/64 Camera Tests ...\n",
      "visiting 6/64 Image Hacking ...\n",
      "visiting 7/64 Caught My Eye ...\n",
      "visiting 8/64 Cell Phoning It In ...\n",
      "visiting 9/64 Weekenders ...\n",
      "visiting 10/64 Been There Done That ...\n",
      "visiting 11/64 Great and Greater Forebearers ...\n",
      "visiting 12/64 Minnie Raver ...\n",
      "visiting 13/64 Grandparents ...\n",
      "visiting 14/64 My Kids ...\n",
      "visiting 15/64 Restorations ...\n",
      "visiting 16/64 In and Around Ottawa ...\n",
      "visiting 17/64 Abodes ...\n",
      "visiting 18/64 Partial Restorations ...\n",
      "visiting 19/64 Montana Now and Then ...\n",
      "visiting 20/64 From Hazel's Albums ...\n",
      "visiting 21/64 Iran 1960's ...\n",
      "visiting 22/64 Ghana 1970's ...\n",
      "visiting 23/64 Inlaws Outlaws and Friends ...\n",
      "visiting 24/64 Does Not Fit ...\n",
      "visiting 25/64 Indiana Images ...\n",
      "visiting 26/64 Fiscal 2009 ...\n",
      "visiting 27/64 Minnesota ...\n",
      "visiting 28/64 Beirut Lebanon 1960's ...\n",
      "visiting 29/64 Flat Things ...\n",
      "visiting 30/64 My Wife's Family ...\n",
      "visiting 31/64 Direct Cell Uploads ...\n",
      "empty album DirectCellUploads\n",
      "empty album DirectCellUploads\n",
      "visiting 32/64 South America 1979 ...\n",
      "visiting 33/64 Enewetak Atoll 1980's ...\n",
      "visiting 34/64 New Mexico Montage ...\n",
      "visiting 35/64 Missouri Moments ...\n",
      "visiting 36/64 Western Road Trip 2015 ...\n",
      "visiting 37/64 To Much Information ...\n",
      "visiting 38/64 North by Northwest ...\n",
      "visiting 39/64 Logos Screenshots Covers ...\n",
      "visiting 40/64 ACS School Trips 1960's ...\n",
      "visiting 41/64 Tetons Yellowstone 2013 ...\n",
      "visiting 42/64 utilimages ...\n",
      "visiting 43/64 Kingston Ontario ...\n",
      "visiting 44/64 Arizona Toodling ...\n",
      "visiting 45/64 My SmugMug Site Files ...\n",
      "visiting 46/64 smugsitefiles ...\n",
      "visiting 47/64 Along the Yukon River ...\n",
      "visiting 48/64 Camera Awesome Photos ...\n",
      "empty album CameraAwesomePhotos\n",
      "empty album CameraAwesomePhotos\n",
      "visiting 49/64 Camera Awesome Archive ...\n",
      "empty album CameraAwesomeArchive\n",
      "empty album CameraAwesomeArchive\n",
      "visiting 50/64 Cripple Chronicles ...\n",
      "visiting 51/64 Email ...\n",
      "empty album Email\n",
      "empty album Email\n",
      "visiting 52/64 Helen Hamilton ...\n",
      "visiting 53/64 Virginia Fall 2010 ...\n",
      "visiting 54/64 Chicago 2007 ...\n",
      "visiting 55/64 California Captures ...\n",
      "visiting 56/64 Video ...\n",
      "visiting 57/64 Zambia Eclipse Trip ...\n",
      "visiting 58/64 New York 2005 ...\n",
      "visiting 59/64 Briefly Bermuda ...\n",
      "visiting 60/64 Banff and Jasper 2006 ...\n",
      "visiting 61/64 Diving at Bellairs Barbados BW ...\n",
      "visiting 62/64 Washington DC 2007 ...\n",
      "visiting 63/64 Ottawa to Irvine ...\n",
      "visiting 64/64 63 ...\n",
      "elasped seconds = 69.62469642438961\n"
     ]
    }
   ],
   "source": [
    "# Refresh album TAB delimited files: assumes (smugpyter) location is on sys.path.\n",
    "import smugpyter\n",
    "\n",
    "smug = smugpyter.SmugPyter()\n",
    "smug.download_album_metadata()"
   ]
  },
  {
   "cell_type": "markdown",
   "metadata": {},
   "source": [
    "Refreshing metadata is also available via the batch script.\n",
    "\n",
    "     RefreshMetadata.bat"
   ]
  },
  {
   "cell_type": "markdown",
   "metadata": {},
   "source": [
    "### Refreshing Recently Changed Metadata\n",
    "\n",
    "Album metadata is fairly stable. Usually you only want to collect recently changed albums.\n",
    "The following gathers recent changes. The default is to look fourteen days back. The default is\n",
    "set in the config file."
   ]
  },
  {
   "cell_type": "code",
   "execution_count": 3,
   "metadata": {},
   "outputs": [
    {
     "name": "stdout",
     "output_type": "stream",
     "text": [
      "Collecting albums changed in the last 14 days\n",
      "Scanning 3 albums\n",
      "visiting 1/3 Idaho Instants ...\n",
      "visiting 2/3 Camera Tests ...\n",
      "visiting 3/3 Caught My Eye ...\n",
      "elasped seconds = 14.605341282258763\n"
     ]
    }
   ],
   "source": [
    "# Refresh album TAB delimited files of recently changed online galleries.\n",
    "import smugpyter\n",
    "\n",
    "smug = smugpyter.SmugPyter()\n",
    "\n",
    "# smug.days_before set in config \n",
    "smug.download_album_metadata(smug.days_before)"
   ]
  },
  {
   "cell_type": "markdown",
   "metadata": {},
   "source": [
    "Refreshing recently changed metadata is also available via the batch script.\n",
    "\n",
    "     RefreshRecentMetadata.bat"
   ]
  },
  {
   "cell_type": "markdown",
   "metadata": {},
   "source": [
    "### Collecting Sample Images from SmugMug\n",
    "\n",
    "Before image color and geottag keys can be computed it's necessary to gather sample images\n",
    "from SmugMug. Sample images are small `jpeg` versions of larger online images. When sample images\n",
    "are downloaded they are renamed as:\n",
    "\n",
    "     <smugmug-image-key>-<key-case-mask>-<file-name-with-blanks-replaced-with-hyphens>.jpg\n",
    "     \n",
    "Here are some examples.\n",
    "\n",
    "     vF4Bwpg-14-ghanasco-track-team-1977.jpg\n",
    "     ZF5SPhL-31-me-near-three-island-crossing.jpg\n",
    "     PSdGFkr-30-aub-porthole-sea-tower.jpg\n",
    "\n",
    "The SmugMug image key is unique across all images for a given user account. The SmugMug image\n",
    "key is case sensitive hence a case mask is attached to preserve the case on systems like\n",
    "Windows that often ignore file name case."
   ]
  },
  {
   "cell_type": "code",
   "execution_count": 4,
   "metadata": {},
   "outputs": [
    {
     "name": "stdout",
     "output_type": "stream",
     "text": [
      "(4687, 0)\n"
     ]
    }
   ],
   "source": [
    "# Download new sample images: assumes (smugpyter) is on sys.path.\n",
    "# Run after refreshing metadata files.\n",
    "import smugpyter\n",
    "\n",
    "smug = smugpyter.SmugPyter()\n",
    "#smug.yammer = True\n",
    "print(smug.update_all_sample_images(smug.local_directory))"
   ]
  },
  {
   "cell_type": "markdown",
   "metadata": {},
   "source": [
    "Sample images can also be collected with the batch file.\n",
    "\n",
    "     UpdateSampleImages.bat"
   ]
  },
  {
   "cell_type": "markdown",
   "metadata": {},
   "source": [
    "### Computing Geotag, Print Size and Dominant Color Keys\n",
    "\n",
    "Getotag, print size and dominant color keys are computed with:"
   ]
  },
  {
   "cell_type": "code",
   "execution_count": 5,
   "metadata": {},
   "outputs": [
    {
     "name": "stdout",
     "output_type": "stream",
     "text": [
      "SmugPyter started: Thu Dec 27 12:30:45 2018\n",
      "(61, 61)\n",
      "processing geotag keys\n",
      "(4687, 1)\n",
      "processing print size leys\n",
      "(4687, 4)\n",
      "processing color keys\n",
      "mali sun valley ice throne.jpg | 0_darkslategrey; 5x7; ice; mali; sun; throne; valley\n",
      "sun valley lodge winter.jpg | 0_sienna; 10x15; geotagged; idaho; lodge; sun; usa; valley; winter\n",
      "sun valley snow sun.jpg | 0_linen; 5x7; snow; sun; valley\n",
      "sun valley snow sun.jpg | 0_lavender; 5x7; snow; sun; valley\n",
      "(4687, 4)\n"
     ]
    }
   ],
   "source": [
    "# Update CSV TAB delimited geotag, print size and color keyword \n",
    "# changes files. Run after refreshing metadata files and updating\n",
    "# sample images. Assumes (smugpyter, geotagkeys, printkeys, colorkeys)\n",
    "# are on sys.path.\n",
    "\n",
    "import geotagkeys\n",
    "import printkeys\n",
    "import colorkeys\n",
    "\n",
    "# subclasses of SmugPyter\n",
    "gk = geotagkeys.GeotagKeys(log_start=True)\n",
    "pk = printkeys.PrintKeys()\n",
    "ck = colorkeys.ColorKeys(verbose=True)\n",
    "\n",
    "# local directory in config - set in superclass\n",
    "root = pk.local_directory\n",
    "\n",
    "# reset all changes files\n",
    "print(gk.reset_all_changes_files(root))\n",
    "\n",
    "# update changes files - order matters\n",
    "print(gk.update_all_geotag_keyword_changes(root))\n",
    "\n",
    "pk.merge_changes = True\n",
    "print(pk.update_all_size_keyword_changes(root))\n",
    "\n",
    "ck.merge_changes = True\n",
    "print(ck.update_all_color_keyword_changes(root))"
   ]
  },
  {
   "cell_type": "markdown",
   "metadata": {},
   "source": [
    "Finally, geotag, print size and color keywords can be set with:\n",
    "\n",
    "     UpdateSmugKeywords.bat"
   ]
  },
  {
   "cell_type": "markdown",
   "metadata": {},
   "source": [
    "### API PATCH PROBLEMS: Posting Key Change to SmugMug\n",
    "\n",
    "Prior calculations write key changes to change files in each sample image\n",
    "directory and to text files in the root. The root files are:\n",
    "\n",
    "     GeoChanges.txt\n",
    "     SizeChanges.txt\n",
    "     AllChanges.txt\n",
    "     \n",
    "`GeoChanges.txt` and `SizeChanges.txt` are loaded before `AllChanges.txt`.  All key changes\n",
    "posted to SmugMug come from `AllChanges.txt`\n",
    "\n",
    "**NOTE: SMUGMUG PATCH API REQUESTS ARE BROKEN AGAIN!** I have\n",
    "been posting key changes by cutting and pasting `smugpyter` outputs to\n",
    "SmugMug by hand. Hence, the changes to limit and centralize all changes\n",
    "to one spot.\n",
    "\n",
    "**TODO: Find out why `PATCH` does not work!**"
   ]
  },
  {
   "cell_type": "markdown",
   "metadata": {},
   "source": [
    "After setting local changes files the keywords can be pushed to SmugMug with:"
   ]
  },
  {
   "cell_type": "code",
   "execution_count": 6,
   "metadata": {},
   "outputs": [],
   "source": [
    "# Run after refreshing metadata files and updating keyword changes files: \n",
    "# assumes (smugpyter) is on sys.path\n",
    "import smugpyter\n",
    "\n",
    "#smug = smugpyter.SmugPyter()\n",
    "#print(smug.update_all_keyword_changes(smug.local_directory))"
   ]
  },
  {
   "cell_type": "markdown",
   "metadata": {},
   "source": [
    "Pushing keyword changes to SmugMug can be done with:\n",
    "\n",
    "    ChangeKeywords.bat"
   ]
  },
  {
   "cell_type": "markdown",
   "metadata": {},
   "source": [
    "## Next on the Agenda!\n",
    "\n",
    "The local directories maintained by `SmugPyter` are mainly inputs to other programs. I am already\n",
    "using these directories to build an SQLite database with J. See the group `MirrorXref` in \n",
    "the [JOD](https://analyzethedatanotthedrivel.org/the-jod-page/) dictionary [smugpyter](https://github.com/bakerjd99/joddumps) for details.\n",
    "\n",
    "Remember, always [Analyze the Data not the Drivel](https://analyzethedatanotthedrivel.org/).\n",
    "\n",
    "John Baker, Meridian Idaho"
   ]
  }
 ],
 "metadata": {
  "kernelspec": {
   "display_name": "Python 3",
   "language": "python",
   "name": "python3"
  },
  "language_info": {
   "codemirror_mode": {
    "name": "ipython",
    "version": 3
   },
   "file_extension": ".py",
   "mimetype": "text/x-python",
   "name": "python",
   "nbconvert_exporter": "python",
   "pygments_lexer": "ipython3",
   "version": "3.6.5"
  }
 },
 "nbformat": 4,
 "nbformat_minor": 2
}
