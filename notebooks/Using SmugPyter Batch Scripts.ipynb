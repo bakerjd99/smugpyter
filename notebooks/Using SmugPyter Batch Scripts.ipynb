{
 "cells": [
  {
   "cell_type": "markdown",
   "metadata": {},
   "source": [
    "Using `SmugPyter` Batch Scripts\n",
    "===============\n",
    "\n",
    "![](jupysmug.png)"
   ]
  },
  {
   "cell_type": "markdown",
   "metadata": {},
   "source": [
    "### Maintaining Local SmugMirror Directories\n",
    "\n",
    "`SmugPyter` maintains local directories of SmugMug metadata. The directories\n",
    "mirror your online folders and albums and contain:\n",
    "\n",
    "1. Metadata in simple CSV TAB delimited text files.\n",
    "\n",
    "2. Sample images.\n",
    "\n",
    "This information is used to set:\n",
    "\n",
    "1. Print size keywords.\n",
    "\n",
    "2. Geotag keywords.\n",
    "\n",
    "3. Dominant color keywords.\n",
    "\n",
    "The SmugMirror is primarily an input to other programs including version control systems like `Git` that\n",
    "can track changes in text files.\n",
    "\n",
    "Keeping local directories current is simple matter of running a few batch scripts."
   ]
  },
  {
   "cell_type": "markdown",
   "metadata": {},
   "source": [
    "### Clearing Changes Files.\n",
    "\n",
    "Keyword changes are staged in changes files. Changes files follow this naming convention.\n",
    "\n",
    "\n",
    "Before updating local files it's a good idea to empty existing changes files."
   ]
  },
  {
   "cell_type": "code",
   "execution_count": 6,
   "metadata": {},
   "outputs": [
    {
     "name": "stdout",
     "output_type": "stream",
     "text": [
      "(57, 57)\n"
     ]
    }
   ],
   "source": [
    "# Empty all CSV changes files: assumes (smugpyter) location is on sys.path.\n",
    "import smugpyter\n",
    "\n",
    "smug = smugpyter.SmugPyter()\n",
    "print(smug.reset_all_changes_files('c:\\SmugMirror'))"
   ]
  },
  {
   "cell_type": "markdown",
   "metadata": {},
   "source": [
    "Reseting changes files is also available via the batch script.\n",
    "\n",
    "     ResetAllChangesFiles.bat"
   ]
  },
  {
   "cell_type": "markdown",
   "metadata": {},
   "source": [
    "### Refreshing Manifest Files\n",
    "\n",
    "The leaf directories in SmugMirror contain CSV TAB delimited text files that list images in SmugMug albums.\n",
    "Manifest files follow this naming convention:\n",
    "\n",
    "\n",
    "\n",
    "Manifest files are keys inputs to functions in `SmugPyter` and its subclasses. Here is how you keep them updated."
   ]
  },
  {
   "cell_type": "code",
   "execution_count": 2,
   "metadata": {},
   "outputs": [
    {
     "name": "stdout",
     "output_type": "stream",
     "text": [
      "visiting album GreatandGreaterForebearers\n",
      "visiting album MinnieRaver\n",
      "visiting album Grandparents\n",
      "visiting album MyKids\n",
      "visiting album TheWayWeWere\n",
      "visiting album FromHazelsAlbums\n",
      "visiting album InlawsOutlawsandFriends\n",
      "visiting album MyWifesFamily\n",
      "visiting album HelenHamilton\n",
      "visiting album Video\n",
      "visiting album IdahoInstants\n",
      "visiting album InandAroundOttawa\n",
      "visiting album MontanaNowandThen\n",
      "visiting album IndianaImages\n",
      "visiting album Minnesota\n",
      "visiting album NewMexicoMontage\n",
      "visiting album MissouriMoments\n",
      "visiting album KingstonOntario\n",
      "visiting album CaliforniaCaptures\n",
      "visiting album Iran1960s\n",
      "visiting album Ghana1970s\n",
      "visiting album BeirutLebanon1960s\n",
      "visiting album DivingatBellairsBarbadosBW\n",
      "visiting album Weekenders\n",
      "visiting album WesternRoadTrip2015\n",
      "visiting album NorthbyNorthwest\n",
      "visiting album TetonsYellowstone2013\n",
      "visiting album ArizonaToodling\n",
      "visiting album AlongtheYukonRiver\n",
      "visiting album VirginiaFall2010\n",
      "visiting album Chicago2007\n",
      "visiting album NewYork2005\n",
      "visiting album BanffandJasper2006\n",
      "visiting album SouthAmerica1979\n",
      "visiting album EnewetakAtoll1980s\n",
      "visiting album ACSSchoolTrips1960s\n",
      "visiting album ZambiaEclipseTrip\n",
      "visiting album BrieflyBermuda\n",
      "visiting album Panoramas\n",
      "visiting album ImageHacking\n",
      "visiting album Restorations\n",
      "visiting album PartialRestorations\n",
      "visiting album LogosScreenshotsCovers\n",
      "visiting album CellPhoningItIn\n",
      "visiting album BeenThereDoneThat\n",
      "visiting album Fiscal2009\n",
      "visiting album ToMuchInformation\n",
      "visiting album CrippleChronicles\n",
      "visiting album 63\n",
      "visiting album Abodes\n",
      "visiting album CaughtMyEye\n",
      "visiting album DoesNotFit\n",
      "visiting album FlatThings\n",
      "visiting album DirectCellUploads\n",
      "visiting album utilimages\n",
      "visiting album MySmugMugSiteFiles\n",
      "visiting album smugsitefiles\n",
      "visiting album CameraAwesomePhotos\n",
      "empty album CameraAwesomePhotos\n",
      "visiting album CameraAwesomeArchive\n",
      "empty album CameraAwesomeArchive\n",
      "visiting album Email\n",
      "empty album Email\n",
      "done\n"
     ]
    }
   ],
   "source": [
    "# Refresh album CSV manifest files: assumes (smugpyter) location is on sys.path.\n",
    "import smugpyter\n",
    "\n",
    "smug = smugpyter.SmugPyter()\n",
    "smug.download_smugmug_mirror(func_album=smugmug.write_album_manifest)"
   ]
  },
  {
   "cell_type": "markdown",
   "metadata": {},
   "source": [
    "Refreshing manifest files is also available via the batch script.\n",
    "\n",
    "     RefreshManifests.bat"
   ]
  },
  {
   "cell_type": "markdown",
   "metadata": {},
   "source": [
    "### Refreshing Real Dates\n",
    "\n",
    "SmugMug images are tagged with many dates. The dates easily extracted via the SmugMug 2.0 API are \n",
    "typically upload and other system dates. Usually we want EXIF/IPTC dates. To get these dates it's\n",
    "currently necessary to issue a web API request for every single image. This is time consuming and tedious. \n",
    "Fortunately, image real dates are very stable. Once downloaded they seldom change. Hence, real date \n",
    "refreshing checks downloaded images for dates before issuing API requests. You can force reloads by\n",
    "editing manifest and real date files and deleting images before running the following code snippet."
   ]
  },
  {
   "cell_type": "code",
   "execution_count": 3,
   "metadata": {},
   "outputs": [
    {
     "name": "stdout",
     "output_type": "stream",
     "text": [
      "visiting album GreatandGreaterForebearers\n",
      "visiting album MinnieRaver\n",
      "visiting album Grandparents\n",
      "visiting album MyKids\n",
      "visiting album TheWayWeWere\n",
      "visiting album FromHazelsAlbums\n",
      "visiting album InlawsOutlawsandFriends\n",
      "visiting album MyWifesFamily\n",
      "visiting album HelenHamilton\n",
      "visiting album Video\n",
      "visiting album IdahoInstants\n",
      "visiting album InandAroundOttawa\n",
      "visiting album MontanaNowandThen\n",
      "visiting album IndianaImages\n",
      "visiting album Minnesota\n",
      "visiting album NewMexicoMontage\n",
      "visiting album MissouriMoments\n",
      "visiting album KingstonOntario\n",
      "visiting album CaliforniaCaptures\n",
      "visiting album Iran1960s\n",
      "visiting album Ghana1970s\n",
      "visiting album BeirutLebanon1960s\n",
      "visiting album DivingatBellairsBarbadosBW\n",
      "visiting album Weekenders\n",
      "visiting album WesternRoadTrip2015\n",
      "visiting album NorthbyNorthwest\n",
      "visiting album TetonsYellowstone2013\n",
      "visiting album ArizonaToodling\n",
      "visiting album AlongtheYukonRiver\n",
      "visiting album VirginiaFall2010\n",
      "visiting album Chicago2007\n",
      "visiting album NewYork2005\n",
      "visiting album BanffandJasper2006\n",
      "visiting album SouthAmerica1979\n",
      "visiting album EnewetakAtoll1980s\n",
      "visiting album ACSSchoolTrips1960s\n",
      "visiting album ZambiaEclipseTrip\n",
      "visiting album BrieflyBermuda\n",
      "visiting album Panoramas\n",
      "visiting album ImageHacking\n",
      "visiting album Restorations\n",
      "visiting album PartialRestorations\n",
      "visiting album LogosScreenshotsCovers\n",
      "visiting album CellPhoningItIn\n",
      "visiting album BeenThereDoneThat\n",
      "visiting album Fiscal2009\n",
      "visiting album ToMuchInformation\n",
      "visiting album CrippleChronicles\n",
      "visiting album 63\n",
      "visiting album Abodes\n",
      "visiting album CaughtMyEye\n",
      "visiting album DoesNotFit\n",
      "visiting album FlatThings\n",
      "visiting album DirectCellUploads\n",
      "visiting album utilimages\n",
      "visiting album MySmugMugSiteFiles\n",
      "visiting album smugsitefiles\n",
      "visiting album CameraAwesomePhotos\n",
      "empty album CameraAwesomePhotos\n",
      "visiting album CameraAwesomeArchive\n",
      "empty album CameraAwesomeArchive\n",
      "visiting album Email\n",
      "empty album Email\n",
      "done\n"
     ]
    }
   ],
   "source": [
    "# Refresh album CSV real date files: assumes (smugpyter) is on sys.path.\n",
    "\n",
    "# WARNING: it takes a long time to run this script for the\n",
    "# first time. The dates we are looking for are buried in the\n",
    "# original EXIF/IPTC image values and there appears to be no fast\n",
    "# way to extract these dates using the SmugMug API 2.0.\n",
    "# The \"fast\" API dates are upload and change dates which\n",
    "# are not image EXIF dates. You have to ping the metadata \n",
    "# of every single image in all albums to extract \"real dates.\"\n",
    "# The good news is that these dates are fairly stable and \n",
    "# simple caching of previously fetched dates works well\n",
    "# for typical incremental updates.\n",
    "\n",
    "import smugpyter\n",
    "\n",
    "smug = smugpyter.SmugPyter(yammer=True)\n",
    "smug.download_smugmug_mirror(func_album=smug.write_album_real_dates)"
   ]
  },
  {
   "cell_type": "markdown",
   "metadata": {},
   "source": [
    "Refreshing real dates is also available via the batch script.\n",
    "\n",
    "    RefreshRealdates.bat"
   ]
  },
  {
   "cell_type": "markdown",
   "metadata": {},
   "source": [
    "### Geotagging and Reverse Geocoding Images\n",
    "\n",
    "Images with nonzero latitude and longitude can be geotagged and reverse geocoded, \n",
    "(keywords are place names), with the following."
   ]
  },
  {
   "cell_type": "code",
   "execution_count": 1,
   "metadata": {},
   "outputs": [
    {
     "name": "stdout",
     "output_type": "stream",
     "text": [
      "(4259, 0)\n"
     ]
    }
   ],
   "source": [
    "# Update CSV geotagged keywords changes files. Run after \n",
    "# refreshing manifest files: assumes (smugpyter, geotagkeys) is on sys.path.\n",
    "# After running this script apply the changes with (ChangeKeywords.bat)\n",
    "# and then rerun (RefreshManifests.bat).\n",
    "\n",
    "import geotagkeys\n",
    "\n",
    "gk = geotagkeys.GeotagKeys()\n",
    "root = 'c:\\SmugMirror'\n",
    "\n",
    "# update changes files\n",
    "# gk.yammer = True\n",
    "print(gk.set_all_reverse_geocodes(root))"
   ]
  },
  {
   "cell_type": "markdown",
   "metadata": {},
   "source": [
    "Updating geotagged keywords is also available via the batch script.\n",
    "\n",
    "    UpdateGeotagKeywords.bat"
   ]
  },
  {
   "cell_type": "markdown",
   "metadata": {},
   "source": [
    "After setting local changes files the keywords can be pushed to SmugMug with:"
   ]
  },
  {
   "cell_type": "code",
   "execution_count": 3,
   "metadata": {},
   "outputs": [
    {
     "name": "stdout",
     "output_type": "stream",
     "text": [
      "(0, 0)\n"
     ]
    }
   ],
   "source": [
    "# Scan CSV changes files in local directories and apply keyword changes.\n",
    "# Run after refreshing manifest files and updating keyword changes files: \n",
    "# assumes (smugpyter) is on sys.path\n",
    "import smugpyter\n",
    "\n",
    "smug = smugpyter.SmugPyter()\n",
    "print(smug.update_all_keyword_changes('c:\\SmugMirror'))"
   ]
  },
  {
   "cell_type": "markdown",
   "metadata": {},
   "source": [
    "Pushing keyword changes to SmugMug can be done with:\n",
    "\n",
    "    ChangeKeywords.bat"
   ]
  },
  {
   "cell_type": "markdown",
   "metadata": {},
   "source": [
    "After applying geotagging keywords refresh manifest files again."
   ]
  },
  {
   "cell_type": "markdown",
   "metadata": {},
   "source": [
    "### Computing Print Size and Dominant Color Keys\n",
    "\n",
    "Print size and dominant color keys are computed with:"
   ]
  },
  {
   "cell_type": "code",
   "execution_count": 5,
   "metadata": {},
   "outputs": [
    {
     "name": "stdout",
     "output_type": "stream",
     "text": [
      "(4259, 0)\n",
      "cannot compute color key -> c:\\SmugMirror\\Other\\utilimages\\\\cNF63Lh-1e-blu-diamond.png\n",
      "cannot compute color key -> c:\\SmugMirror\\People\\Grandparents\\\\2fPXg4d-o-frank-baker-portrait-[4445383].jpg\n",
      "cannot compute color key -> c:\\SmugMirror\\People\\TheWayWeWere\\\\2fPXg4d-o-frank-baker-portrait-[4445383].jpg\n",
      "cannot compute color key -> c:\\SmugMirror\\Places\\Overseas\\DivingatBellairsBarbadosBW\\\\XTkjwT7-2q-squid-near-anchor-rope-[6225543].jpg\n",
      "cannot compute color key -> c:\\SmugMirror\\Themes\\Manipulations\\LogosScreenshotsCovers\\\\VwTq2Zj-2a-jodlittlecube2.png\n",
      "(4259, 0)\n",
      "(0, 0)\n"
     ]
    }
   ],
   "source": [
    "# Update CSV print size and color keywords changes files.\n",
    "# Run after refreshing manifest files and updating\n",
    "# sample images: assumes (smugpyter, printkeys, \n",
    "# colorkeys) are on sys.path.\n",
    "\n",
    "import printkeys\n",
    "import colorkeys\n",
    "\n",
    "pk = printkeys.PrintKeys()\n",
    "ck = colorkeys.ColorKeys()\n",
    "root = 'c:\\SmugMirror'\n",
    "\n",
    "# update changes files - order matters\n",
    "#pk.yammer = True\n",
    "#pk.merge_changes = True\n",
    "print(pk.update_all_size_keyword_changes(root))\n",
    "\n",
    "#ck.yammer = True\n",
    "ck.merge_changes = True\n",
    "print(ck.update_all_color_keyword_changes(root))\n",
    "\n",
    "# change online keywords - same as (ChangeKeywords.bat)\n",
    "print(pk.update_all_keyword_changes(root))"
   ]
  },
  {
   "cell_type": "markdown",
   "metadata": {},
   "source": [
    "Finally, print size and color keywords can be set with:\n",
    "\n",
    "     UpdateSizeColorKeywords.bat"
   ]
  },
  {
   "cell_type": "markdown",
   "metadata": {},
   "source": [
    "## Next on the Agenda!\n",
    "\n",
    "The local directories maintained by `SmugPyter` are mainly inputs to other programs.\n",
    "\n",
    "Remember, always [Analyze the Data not the Drivel](https://analyzethedatanotthedrivel.org/).\n",
    "\n",
    "John Baker, Meridian Idaho"
   ]
  }
 ],
 "metadata": {
  "kernelspec": {
   "display_name": "Python 3",
   "language": "python",
   "name": "python3"
  },
  "language_info": {
   "codemirror_mode": {
    "name": "ipython",
    "version": 3
   },
   "file_extension": ".py",
   "mimetype": "text/x-python",
   "name": "python",
   "nbconvert_exporter": "python",
   "pygments_lexer": "ipython3",
   "version": "3.6.3"
  }
 },
 "nbformat": 4,
 "nbformat_minor": 2
}
