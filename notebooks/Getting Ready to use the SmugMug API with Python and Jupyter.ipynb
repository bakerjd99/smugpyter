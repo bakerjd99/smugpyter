{
 "cells": [
  {
   "cell_type": "markdown",
   "metadata": {},
   "source": [
    "Getting Ready to use the SmugMug API with Python and Jupyter\n",
    "=========================================\n",
    "\n",
    "![](jupysmug.png)"
   ]
  },
  {
   "cell_type": "markdown",
   "metadata": {},
   "source": [
    "## Let's install some software.\n",
    "\n",
    "Before we can use the SmugMug API with Python and Jupyter we have to install some\n",
    "software.\n",
    "\n",
    "To install Jupyter and Python I used [Anaconda](https://www.anaconda.com/). \n",
    "Anaconda installs Jupyter along with a standard set of widely used Python packages.\n",
    "If you are new to Jupyter and Python Anaconda will simplify the chore of\n",
    "sorting out package dependencies.\n",
    "\n",
    "After setting up Jupyter and Python you will need some additional\n",
    "packages to use the SmugMug API. The required packages can be installed\n",
    "with Anaconda's `conda.exe` or with the standard Python `pip` utility. I'd\n",
    "recommend trying conda first if your are using Anaconda. Both conda and\n",
    "pip cannot be run within Jupyter you will have to execute it from the command line or\n",
    "shell out. The command line varies slightly depending on your host operating\n",
    "system. I used the following commands on a Windows 64 bit system cmd\n",
    "shell.\n",
    "\n",
    "> C:\\\\&gt;cd \\\\anaconda3\n",
    ">\n",
    "> C:\\\\anaconda3&gt;python –m pip install rauth\n",
    "\n"
   ]
  },
  {
   "cell_type": "code",
   "execution_count": 1,
   "metadata": {},
   "outputs": [],
   "source": [
    "# NOTE: check this list \n",
    "#!cd \\anaconda3\n",
    "#!python -m pip install rauth\n",
    "\n",
    "#!cd \\anaconda3\n",
    "#!python -m pip install httplib2\n",
    "\n",
    "#!cd \\anaconda3\n",
    "#!python -m pip install 2to3"
   ]
  },
  {
   "cell_type": "markdown",
   "metadata": {},
   "source": [
    "## Making *`smugpyter.py`*  Available.\n",
    "\n",
    "`smugpyter.py` and associated notebooks and support files can be found here:\n",
    "\n",
    "[https://github.com/bakerjd99/smugpyter/tree/master/notebooks](https://github.com/bakerjd99/smugpyter/tree/master/notebooks)\n",
    "\n",
    "To use `smugpyter.py` copy it to a local directory and set up your Python\n",
    "system to `import` it like any other Python script.\n",
    "\n",
    "There are many ways to do this. For the Win64 Anaconda environment the simplest method I have found is \n",
    "to use `sys.path.append`.\n",
    "\n",
    "After running this command `C:\\your\\directory` will appear on sys.path. "
   ]
  },
  {
   "cell_type": "code",
   "execution_count": 2,
   "metadata": {},
   "outputs": [
    {
     "name": "stdout",
     "output_type": "stream",
     "text": [
      "C:\\Users\\baker\\jupyter_notebooks\n",
      "C:\\Anaconda3\\python39.zip\n",
      "C:\\Anaconda3\\DLLs\n",
      "C:\\Anaconda3\\lib\n",
      "C:\\Anaconda3\n",
      "\n",
      "C:\\Anaconda3\\lib\\site-packages\n",
      "C:\\mp\\jupyter\\smugpyter\\notebooks\n",
      "C:\\Anaconda3\\lib\\site-packages\\locket-0.2.1-py3.9.egg\n",
      "C:\\Anaconda3\\lib\\site-packages\\win32\n",
      "C:\\Anaconda3\\lib\\site-packages\\win32\\lib\n",
      "C:\\Anaconda3\\lib\\site-packages\\Pythonwin\n",
      "C:\\Anaconda3\\lib\\site-packages\\IPython\\extensions\n",
      "C:\\Users\\baker\\.ipython\n",
      "C:\\mp\\jupyter\\smugpyter\\notebooks\n"
     ]
    }
   ],
   "source": [
    "import sys\n",
    "sys.path.append(r'C:\\mp\\jupyter\\smugpyter\\notebooks') # windows\n",
    "\n",
    "for p in sys.path:\n",
    "    print(p)"
   ]
  },
  {
   "cell_type": "markdown",
   "metadata": {},
   "source": [
    "## Next on the Agenda!\n",
    "\n",
    "With `smugpyter.py` on the `import` search path we can now easily use it in Jupyter notebooks\n",
    "and debug it like any other Python script.\n",
    "\n",
    "Remember, always [Analyze the Data not the Drivel](https://analyzethedatanotthedrivel.org/).\n",
    "\n",
    "John Baker, Meridian Idaho, January 31, 2022"
   ]
  }
 ],
 "metadata": {
  "kernelspec": {
   "display_name": "Python 3 (ipykernel)",
   "language": "python",
   "name": "python3"
  },
  "language_info": {
   "codemirror_mode": {
    "name": "ipython",
    "version": 3
   },
   "file_extension": ".py",
   "mimetype": "text/x-python",
   "name": "python",
   "nbconvert_exporter": "python",
   "pygments_lexer": "ipython3",
   "version": "3.9.7"
  }
 },
 "nbformat": 4,
 "nbformat_minor": 2
}
