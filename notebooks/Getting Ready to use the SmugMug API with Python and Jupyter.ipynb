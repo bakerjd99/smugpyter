{
 "cells": [
  {
   "cell_type": "markdown",
   "metadata": {},
   "source": [
    "Getting Ready to use the SmugMug API with Python and Jupyter\n",
    "=========================================\n",
    "\n",
    "![](jupysmug.png)"
   ]
  },
  {
   "cell_type": "markdown",
   "metadata": {},
   "source": [
    "## Let's install some software.\n",
    "\n",
    "Before we can use the SmugMug API with Python and Jupyter we have to install some\n",
    "software.\n",
    "\n",
    "To install Jupyter and Python I used [Anaconda](https://www.anaconda.com/). \n",
    "Anaconda installs Jupyter along with a standard set of widely used Python packages.\n",
    "If you are new to Jupyter and Python Anaconda will simplify the chore of\n",
    "sorting out package dependencies.\n",
    "\n",
    "After setting up Jupyter and Python you will need some additional\n",
    "packages to use the SmugMug API. The required packages can be installed\n",
    "with the standard Python pip utility. The pip utility cannot be run\n",
    "within Jupyter you will have to execute it from the command line or\n",
    "shell out. The command line varies slightly depending on your host operating\n",
    "system. I used the following commands on a Windows 64 bit system cmd\n",
    "shell.\n",
    "\n",
    "> C:\\\\&gt;cd \\\\anaconda3\n",
    ">\n",
    "> C:\\\\anaconda3&gt;python –m pip install rauth"
   ]
  },
  {
   "cell_type": "code",
   "execution_count": 6,
   "metadata": {},
   "outputs": [
    {
     "name": "stdout",
     "output_type": "stream",
     "text": [
      "Requirement already satisfied: rauth in c:\\anaconda3\\lib\\site-packages\n",
      "Requirement already satisfied: requests>=1.2.3 in c:\\anaconda3\\lib\\site-packages (from rauth)\n",
      "Requirement already satisfied: chardet<3.1.0,>=3.0.2 in c:\\anaconda3\\lib\\site-packages (from requests>=1.2.3->rauth)\n",
      "Requirement already satisfied: idna<2.7,>=2.5 in c:\\anaconda3\\lib\\site-packages (from requests>=1.2.3->rauth)\n",
      "Requirement already satisfied: urllib3<1.23,>=1.21.1 in c:\\anaconda3\\lib\\site-packages (from requests>=1.2.3->rauth)\n",
      "Requirement already satisfied: certifi>=2017.4.17 in c:\\anaconda3\\lib\\site-packages (from requests>=1.2.3->rauth)\n",
      "Requirement already satisfied: httplib2 in c:\\anaconda3\\lib\\site-packages\n"
     ]
    }
   ],
   "source": [
    "# NOTE: check this list \n",
    "!cd \\anaconda3\n",
    "!python -m pip install rauth\n",
    "\n",
    "!cd \\anaconda3\n",
    "!python -m pip install httplib2\n",
    "\n",
    "#!cd \\anaconda3\n",
    "#!python -m pip install 2to3"
   ]
  },
  {
   "cell_type": "markdown",
   "metadata": {},
   "source": [
    "## Making *`smugpyter.py`*  Available.\n",
    "\n",
    "`smugpyter.py` and associated notebooks and support files can be found here:\n",
    "\n",
    "[https://github.com/bakerjd99/smugpyter/tree/master/notebooks](https://github.com/bakerjd99/smugpyter/tree/master/notebooks)\n",
    "\n",
    "To use `smugpyter.py` copy it to a local directory and set up your Python\n",
    "system to `import` it like any other Python script.\n",
    "\n",
    "There are many ways to do this. For the Win64 Anaconda environment the simplest method I have found is \n",
    "to use `conda.exe`.\n",
    "\n",
    "> C:\\\\&gt;cd \\\\anaconda3\\\\scripts\n",
    ">\n",
    "> C:\\\\anaconda3\\\\scripts&gt;conda develop C:\\your\\directory\n",
    "\n",
    "After running this command `C:\\your\\directory` will appear on sys.path. \n",
    "Subsequent notebooks will assume `SmugPyter.py` is ready to import."
   ]
  },
  {
   "cell_type": "code",
   "execution_count": 7,
   "metadata": {},
   "outputs": [
    {
     "name": "stdout",
     "output_type": "stream",
     "text": [
      "\n",
      "C:\\Anaconda3\\python36.zip\n",
      "C:\\Anaconda3\\DLLs\n",
      "C:\\Anaconda3\\lib\n",
      "C:\\Anaconda3\n",
      "C:\\Anaconda3\\lib\\site-packages\n",
      "C:\\Anaconda3\\lib\\site-packages\\Babel-2.5.0-py3.6.egg\n",
      "C:\\mp\\jupyter\\smugpyter\\notebooks\n",
      "C:\\Anaconda3\\lib\\site-packages\\win32\n",
      "C:\\Anaconda3\\lib\\site-packages\\win32\\lib\n",
      "C:\\Anaconda3\\lib\\site-packages\\Pythonwin\n",
      "C:\\Anaconda3\\lib\\site-packages\\IPython\\extensions\n",
      "C:\\Users\\john\\.ipython\n"
     ]
    }
   ],
   "source": [
    "import sys\n",
    "\n",
    "for p in sys.path:\n",
    "    print(p)"
   ]
  },
  {
   "cell_type": "markdown",
   "metadata": {},
   "source": [
    "## Next on the Agenda!\n",
    "\n",
    "With `smugpyter.py` on the `import` search path we can now easily use it in Jupyter notebooks\n",
    "and debug it like any other Python script.\n",
    "\n",
    "Remember, always [Analyze the Data not the Drivel](https://analyzethedatanotthedrivel.org/).\n",
    "\n",
    "John Baker, Meridian Idaho"
   ]
  },
  {
   "cell_type": "code",
   "execution_count": null,
   "metadata": {
    "collapsed": true
   },
   "outputs": [],
   "source": []
  }
 ],
 "metadata": {
  "kernelspec": {
   "display_name": "Python 3",
   "language": "python",
   "name": "python3"
  },
  "language_info": {
   "codemirror_mode": {
    "name": "ipython",
    "version": 3
   },
   "file_extension": ".py",
   "mimetype": "text/x-python",
   "name": "python",
   "nbconvert_exporter": "python",
   "pygments_lexer": "ipython3",
   "version": "3.6.3"
  }
 },
 "nbformat": 4,
 "nbformat_minor": 2
}
