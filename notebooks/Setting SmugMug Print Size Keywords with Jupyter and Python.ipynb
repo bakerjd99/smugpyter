{
 "cells": [
  {
   "cell_type": "markdown",
   "metadata": {},
   "source": [
    "Setting SmugMug Print Size Keywords with Jupyter and Python\n",
    "=========================================\n",
    "\n",
    "![](jupysmug.png)"
   ]
  },
  {
   "cell_type": "markdown",
   "metadata": {},
   "source": [
    "## Why am I doing this?\n",
    "\n",
    "Many years ago I wrote a little J verb `smuprintsizes` that computed \n",
    "the [largest standard SmugMug print sizes](https://analyzethedatanotthedrivel.org/2010/02/21/assigning-smugmug-print-size-keys/) when given image dimensions \n",
    "and the desired [DPI](https://en.wikipedia.org/wiki/Dots_per_inch). I used \n",
    "the output of this verb to set aspect ratio keywords for my SmugMug pictures until changes to \n",
    "SmugMug, particularly the introduction of [OAuth authentication](https://en.wikipedia.org/wiki/OAuth), broke my little SmugMug API application that called `smugprintsizes`. \n",
    "\n",
    "My print size keyword setter broke years ago but many of these keys still show up in my \"top ten\" keywords. \n",
    "\n",
    "    10x15 4x5 4x6 5x5 5x6.7 5x7 ...\n",
    "    \n",
    "Print size keywords were very handy. They made it easy to select paper sizes for one or hundreds of pictures. \n",
    "This notebook will use the SmugMug API and Python to compute and set print size keywords."
   ]
  },
  {
   "cell_type": "markdown",
   "metadata": {
    "collapsed": true
   },
   "source": [
    "## The Print Sizes Table\n",
    "\n",
    "`smugprintsizes` made use of the following table.\n",
    "\n",
    "     ┌─────┬─────────┬──────────────┐\n",
    "     │0.7  │17.5 70  │3.5x5 7x10    │\n",
    "     ├─────┼─────────┼──────────────┤\n",
    "     │0.8  │20 80    │4x5 8x10      │\n",
    "     ├─────┼─────────┼──────────────┤\n",
    "     │0.755│21.2 84.8│4x5.3 8x10.6  │\n",
    "     ├─────┼─────────┼──────────────┤\n",
    "     │0.665│24 96    │4x6 8x12      │\n",
    "     ├─────┼─────────┼──────────────┤\n",
    "     │0.5  │32 50 128│4x8 5x10 8x16 │\n",
    "     ├─────┼─────────┼──────────────┤\n",
    "     │1    │25 64 100│5x5 8x8 10x10 │\n",
    "     ├─────┼─────────┼──────────────┤\n",
    "     │0.745│33.5     │5x6.7         │\n",
    "     ├─────┼─────────┼──────────────┤\n",
    "     │0.715│35       │5x7           │\n",
    "     ├─────┼─────────┼──────────────┤\n",
    "     │0.165│150      │5x30          │\n",
    "     ├─────┼─────────┼──────────────┤\n",
    "     │0.4  │160      │8x20          │\n",
    "     ├─────┼─────────┼──────────────┤\n",
    "     │0.775│93.5     │8.5x11        │\n",
    "     ├─────┼─────────┼──────────────┤\n",
    "     │0.75 │108      │9x12          │\n",
    "     ├─────┼─────────┼──────────────┤\n",
    "     │0.77 │130      │10x13         │\n",
    "     └─────┴─────────┴──────────────┘\n",
    "     \n",
    "The first column is the Short/Long image aspect ratio rounded to 0.005. The middle column \n",
    "lists areas in square inches of the corresponding print sizes in the last column.\n",
    "\n",
    "Finding the largest DPI dependent print size is simple matter of:\n",
    "\n",
    "1. Divide the short image dimension by the long image dimension and round to 0.005.\n",
    "   This is the aspect ratio.\n",
    "\n",
    "2. Search for an aspect ratio match in the first column. Many images will not match.\n",
    "   Quit and return `0z0` for no aspect match.\n",
    "\n",
    "3. If a match is found compute the print area required for a given DPI and round to 0.5.\n",
    "\n",
    "4. Find the index of the largest area in the second column that is greater than or equal to the required \n",
    "   area computed in the previous step. If there are not enough pixels no area will meet this criterion.\n",
    "   Quit and return `1z1` for not enough pixels.\n",
    "   \n",
    "5. If an area is found select and return the corresponding print size in the last column.\n",
    "\n"
   ]
  },
  {
   "cell_type": "markdown",
   "metadata": {},
   "source": [
    "## Computing DPI Dependent Print Area\n",
    "\n",
    "The use of the print size table is clear with the exception of computing the print area required for a given DPI.\n",
    "`dpi_area` computes DPI dependent print area."
   ]
  },
  {
   "cell_type": "code",
   "execution_count": null,
   "metadata": {},
   "outputs": [],
   "source": [
    "def round_to(n, precision):\n",
    "    correction = 0.5 if n >= 0 else -0.5\n",
    "    return int( n/precision+correction ) * precision\n",
    "\n",
    "def aspect_ratio(height, width, *, precision=0.005):\n",
    "    return round_to( min(height, width) / max(height, width), precision )\n",
    "\n",
    "def dpi_area(height, width, *, dpi=360, precision=0.5):\n",
    "    return round_to( (height * width) / dpi ** 2, precision )\n",
    "\n",
    "# image pixel dimensions - order is immaterial\n",
    "height, width = 2389 , 3344\n",
    "\n",
    "print('aspect ratio %s' % aspect_ratio(height, width))\n",
    "print('area at 360 dpi %s' % dpi_area(height, width))\n",
    "print('area at 720 dpi %s' % dpi_area(height, width, dpi=720))"
   ]
  },
  {
   "cell_type": "markdown",
   "metadata": {},
   "source": [
    "An image with dimensions of 2389 x 3344 has enough pixels to make a standard 5x7 inch 360 DPI print. \n",
    "It does not  have enough pixels to make a 5x7 inch 720 DPI print. \n",
    "\n",
    "Print resolution is a hot button issue for photographers. How many dots or pixels are \n",
    "required depends on many factors, viewing distance, illumination, image colors, paper gloss and so on. \n",
    "Human vision tests have demonstrated that young people with excellent eyesight can tell the difference\n",
    "between 500 DPI and 600 DPI prints. Resolutions beyond 600 DPI are mostly wasted unless you are using loupes or microscopes.\n",
    "[According to Dr. Optoglass](https://wolfcrow.com/blog/notes-by-dr-optoglass-the-resolution-of-the-human-eye/):\n",
    "\n",
    ">*If the average reading distance is 1 foot (12 inches = 305 mm), p @0.4 arc minute is 35.5 microns or about 720 ppi/dpi. p @1 arc minute is 89 microns or about 300 dpi/ppi. This is why magazines are printed at 300 dpi – it’s good enough for most people. Fine art printers aim for 720, and that’s the best it need be. Very few people stick their heads closer than 1 foot away from a painting or photograph.*\n",
    "\n",
    "Digital printers  complicate DPI issues by applying  sophisticated resizing algorithms that can turn low resolution \n",
    "originals into plausible higher resolution copies. I've found that 360 DPI is a good starting point for SmugMug prints.\n",
    "For exceptional images you can simply divide the 360 DPI image dimensions by two for 720 DPI printing. "
   ]
  },
  {
   "cell_type": "markdown",
   "metadata": {
    "collapsed": true
   },
   "source": [
    "## Next on the Agenda!\n",
    "\n",
    "Remember how \"no good dead goes unpunished.\" Well, running code will be \"enhanced\" whether it's necessary or not. \n",
    "Now that I have a local directories that contain relevant SmugMug metadata in an easily consumed `CSV` form other notebooks will use these directories to generate what I call \"long duration documents.\"  My prefered long duration sources are `Markdown` and `LaTex`. Both of these text formats will be readable for centuries if printed on high quality acid free paper and stored in numerous \"secure and undisclosed locations.\"\n",
    "\n",
    "Remember, always [Analyze the Data not the Drivel](https://analyzethedatanotthedrivel.org/).\n",
    "\n",
    "John Baker, Meridian Idaho"
   ]
  }
 ],
 "metadata": {
  "kernelspec": {
   "display_name": "Python 3",
   "language": "python",
   "name": "python3"
  },
  "language_info": {
   "codemirror_mode": {
    "name": "ipython",
    "version": 3
   },
   "file_extension": ".py",
   "mimetype": "text/x-python",
   "name": "python",
   "nbconvert_exporter": "python",
   "pygments_lexer": "ipython3",
   "version": "3.6.3"
  }
 },
 "nbformat": 4,
 "nbformat_minor": 2
}
