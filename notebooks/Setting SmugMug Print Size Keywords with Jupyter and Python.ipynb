{
 "cells": [
  {
   "cell_type": "markdown",
   "metadata": {},
   "source": [
    "Setting SmugMug Print Size Keywords with Jupyter and Python\n",
    "=========================================\n",
    "\n",
    "![](jupysmug.png)"
   ]
  },
  {
   "cell_type": "markdown",
   "metadata": {},
   "source": [
    "## Why am I doing this?\n",
    "\n",
    "Many years ago I wrote a little J verb `smuprintsizes` that computed \n",
    "the [largest standard SmugMug print sizes](https://analyzethedatanotthedrivel.org/2010/02/21/assigning-smugmug-print-size-keys/) when given image dimensions \n",
    "and the desired [DPI](https://en.wikipedia.org/wiki/Dots_per_inch). I used \n",
    "the output of this verb to set aspect ratio keywords for my SmugMug pictures until changes to \n",
    "SmugMug, particularly the introduction of [OAuth authentication](https://en.wikipedia.org/wiki/OAuth), broke my little SmugMug API application that called `smugprintsizes`. \n",
    "\n",
    "My print size keyword setter broke years ago but many of these keys still show up in my \n",
    "[\"top hundred\"](https://conceptcontrol.smugmug.com/keyword) keywords. \n",
    "\n",
    "    10x15 4x5 4x6 5x5 5x6.7 5x7 ...\n",
    "    \n",
    "Print size keywords were very handy. They made it easy to select paper sizes for one or hundreds of pictures. \n",
    "This notebook will use the SmugMug API and Python to compute and set print size keywords."
   ]
  },
  {
   "cell_type": "markdown",
   "metadata": {
    "collapsed": true
   },
   "source": [
    "## The Print Sizes Table\n",
    "\n",
    "`smugprintsizes` made use of the following table.\n",
    "\n",
    "     ┌─────┬─────────┬──────────────┐\n",
    "     │0.7  │17.5 70  │3.5x5 7x10    │\n",
    "     ├─────┼─────────┼──────────────┤\n",
    "     │0.8  │20 80    │4x5 8x10      │\n",
    "     ├─────┼─────────┼──────────────┤\n",
    "     │0.755│21.2 84.8│4x5.3 8x10.6  │\n",
    "     ├─────┼─────────┼──────────────┤\n",
    "     │0.665│24 96    │4x6 8x12      │\n",
    "     ├─────┼─────────┼──────────────┤\n",
    "     │0.5  │32 50 128│4x8 5x10 8x16 │\n",
    "     ├─────┼─────────┼──────────────┤\n",
    "     │1    │25 64 100│5x5 8x8 10x10 │\n",
    "     ├─────┼─────────┼──────────────┤\n",
    "     │0.745│33.5     │5x6.7         │\n",
    "     ├─────┼─────────┼──────────────┤\n",
    "     │0.715│35       │5x7           │\n",
    "     ├─────┼─────────┼──────────────┤\n",
    "     │0.165│150      │5x30          │\n",
    "     ├─────┼─────────┼──────────────┤\n",
    "     │0.4  │160      │8x20          │\n",
    "     ├─────┼─────────┼──────────────┤\n",
    "     │0.775│93.5     │8.5x11        │\n",
    "     ├─────┼─────────┼──────────────┤\n",
    "     │0.75 │108      │9x12          │\n",
    "     ├─────┼─────────┼──────────────┤\n",
    "     │0.77 │130      │10x13         │\n",
    "     └─────┴─────────┴──────────────┘\n",
    "     \n",
    "The first column is the `Short/Long` image aspect ratio rounded to 0.005. The middle column \n",
    "lists areas in square inches of the corresponding print sizes in the last column.\n",
    "\n",
    "This table uses inches but the algorithm doesn't care about units. You can easily\n",
    "use metric values.\n",
    "\n",
    "Finding the largest DPI dependent print size is simple matter of:\n",
    "\n",
    "1. Divide the short image dimension by the long image dimension and round to 0.005.\n",
    "   This is the aspect ratio.\n",
    "\n",
    "2. Search for an aspect ratio match in the first column. Many images will not match.\n",
    "   Quit and return `0z1` for no aspect match. The `0zN` codes are similiar to \n",
    "   the `NxM` print sizes codes. This will be important in later notebooks.\n",
    "\n",
    "3. If a match is found compute the print area required for a given DPI and round to 0.5.\n",
    "\n",
    "4. Find the index of the largest area in the second column that is greater than or equal to the required \n",
    "   area computed in the previous step. If there are not enough pixels no area will meet this criterion.\n",
    "   Quit and return `0z0` for not enough pixels. \n",
    "   \n",
    "5. If an area is found select and return the corresponding print size in the last column.\n",
    "\n"
   ]
  },
  {
   "cell_type": "markdown",
   "metadata": {},
   "source": [
    "An image with dimensions of 2389 x 3344 has enough pixels to make a standard 5x7 inch 360 DPI print. \n",
    "It does not  have enough pixels to make a 5x7 inch 720 DPI print. \n",
    "\n",
    "Print resolution is a hot button issue for photographers. How many dots (DPI) or pixels (PPI) are \n",
    "required depends on many factors, viewing distance, illumination, image colors, paper gloss and so on. \n",
    "Human vision tests have demonstrated that young people with excellent eyesight can tell the difference\n",
    "between 500 DPI and 600 DPI prints. Resolutions beyond 600 DPI are mostly wasted unless you are using loupes or microscopes.\n",
    "[According to Dr. Optoglass](https://wolfcrow.com/blog/notes-by-dr-optoglass-the-resolution-of-the-human-eye/):\n",
    "\n",
    ">*If the average reading distance is 1 foot (12 inches = 305 mm), p @0.4 arc minute is 35.5 microns or about 720 ppi/dpi. p @1 arc minute is 89 microns or about 300 dpi/ppi. This is why magazines are printed at 300 dpi – it’s good enough for most people. Fine art printers aim for 720, and that’s the best it need be. Very few people stick their heads closer than 1 foot away from a painting or photograph.*\n",
    "\n",
    "Digital printers  complicate DPI issues by applying  sophisticated resizing algorithms that can turn low resolution \n",
    "originals into plausible higher resolution copies. I've found that 360 DPI is a good starting point for SmugMug prints.\n",
    "For exceptional images you can simply divide the 360 DPI image dimensions by two for 720 DPI printing. "
   ]
  },
  {
   "cell_type": "markdown",
   "metadata": {},
   "source": [
    "## Computing DPI Dependent Print Area\n",
    "\n",
    "The use of the print size table is clear with the exception of computing the print area required for a given DPI.\n",
    "`dpi_area` computes DPI dependent print area."
   ]
  },
  {
   "cell_type": "code",
   "execution_count": 1,
   "metadata": {},
   "outputs": [
    {
     "name": "stdout",
     "output_type": "stream",
     "text": [
      "aspect ratio 0.715\n",
      "area at 360 dpi 61.5\n",
      "area at 720 dpi 15.5\n"
     ]
    }
   ],
   "source": [
    "def round_to(n, precision):\n",
    "    correction = 0.5 if n >= 0 else -0.5\n",
    "    return int( n/precision+correction ) * precision\n",
    "\n",
    "def aspect_ratio(height, width, *, precision=0.005):\n",
    "    return round_to( min(height, width) / max(height, width), precision )\n",
    "\n",
    "def dpi_area(height, width, *, dpi=360, precision=0.5):\n",
    "    return round_to( (height * width) / dpi ** 2, precision )\n",
    "\n",
    "# image pixel dimensions - order is immaterial\n",
    "height, width = 2389 , 3344\n",
    "\n",
    "print('aspect ratio %s' % aspect_ratio(height, width))\n",
    "print('area at 360 dpi %s' % dpi_area(height, width))\n",
    "print('area at 720 dpi %s' % dpi_area(height, width, dpi=720))"
   ]
  },
  {
   "cell_type": "markdown",
   "metadata": {},
   "source": [
    "## Representing the Print Size table\n",
    "\n",
    "There are many ways to encode the print size table. I am starting with the simplest possible representation: three lists,\n",
    "one for each column.\n",
    "\n",
    "The lists must have the same number of items. Eventually, these details will be hidden within a `SmugPyter` subclass \n",
    "that manages the details of creating and using print size tables. For now let's use the following lists."
   ]
  },
  {
   "cell_type": "code",
   "execution_count": 2,
   "metadata": {},
   "outputs": [
    {
     "name": "stdout",
     "output_type": "stream",
     "text": [
      "[0.7, 0.8, 0.755, 0.665, 0.5, 1, 0.745, 0.715, 0.165, 0.4, 0.775, 0.75, 0.77]\n",
      "13\n"
     ]
    }
   ],
   "source": [
    "aspect_ratios = [0.7, 0.8, 0.755, 0.665, 0.5, 1, 0.745, 0.715, \n",
    "                 0.165, 0.4, 0.775, 0.75, 0.77]\n",
    "print(aspect_ratios)\n",
    "print(len(aspect_ratios))"
   ]
  },
  {
   "cell_type": "code",
   "execution_count": 3,
   "metadata": {},
   "outputs": [
    {
     "name": "stdout",
     "output_type": "stream",
     "text": [
      "[[17.5, 70], [20, 80], [21.2, 84.8], [24, 96], [32, 50, 128], [25, 64, 100], [33.5], [35], [150], [160], [93.5], [108], [130]]\n",
      "13\n"
     ]
    }
   ],
   "source": [
    "print_areas = [[17.5,70],[20,80],[21.2,84.8],[24,96],[32,50,128],\n",
    "               [25,64,100],[33.5],[35],[150],[160],[93.5],[108],[130]]\n",
    "print(print_areas)\n",
    "print(len(print_areas))"
   ]
  },
  {
   "cell_type": "markdown",
   "metadata": {},
   "source": [
    "## Minimum Print Size Area\n",
    "\n",
    "Any image with a `dpi_area` below the minimum print size table area does not have enough pixels to print. \n",
    "It's useful to know this value. The following `flatten` function \n",
    "from [Recipe 4.14, Python Cookbook 3rd Ed](https://www.safaribooksonline.com/library/view/python-cookbook-3rd/9781449357337/) makes it easy to extract this value."
   ]
  },
  {
   "cell_type": "code",
   "execution_count": 4,
   "metadata": {},
   "outputs": [
    {
     "name": "stdout",
     "output_type": "stream",
     "text": [
      "17.5\n"
     ]
    }
   ],
   "source": [
    "from collections import Iterable\n",
    "\n",
    "def flatten(items):\n",
    "    \"\"\"Yield items from any nested iterable; see REF.\"\"\"\n",
    "    for x in items:\n",
    "        if isinstance(x, Iterable) and not isinstance(x, (str, bytes)):\n",
    "            yield from flatten(x)\n",
    "        else:\n",
    "            yield x\n",
    "            \n",
    "min_print_area = min(list(flatten(print_areas)))\n",
    "print(min_print_area)"
   ]
  },
  {
   "cell_type": "code",
   "execution_count": 5,
   "metadata": {},
   "outputs": [
    {
     "name": "stdout",
     "output_type": "stream",
     "text": [
      "[['3.5x5', '7x10'], ['4x5', '8x10'], ['4x5.3', '8x10.6'], ['4x6', '8x12'], ['4x8', '5x10', '8x16'], ['5x5', '8x8', '10x10'], ['5x6.7'], ['5x7'], ['5x30'], ['8x20'], ['8.5x11'], ['9x12'], ['10x13']]\n",
      "13\n"
     ]
    }
   ],
   "source": [
    "size_keywords = [['3.5x5','7x10'],['4x5','8x10'],['4x5.3','8x10.6'],\n",
    "                 ['4x6','8x12'],['4x8','5x10', '8x16'],['5x5','8x8','10x10'],['5x6.7'],\n",
    "                 ['5x7'],['5x30'],['8x20'],['8.5x11'],['9x12'],['10x13']]\n",
    "print(size_keywords)\n",
    "print(len(size_keywords))"
   ]
  },
  {
   "cell_type": "code",
   "execution_count": 6,
   "metadata": {},
   "outputs": [
    {
     "name": "stdout",
     "output_type": "stream",
     "text": [
      "3800x3800 at 360 DPI = 10x10\n",
      "3800x3800 at 720 DPI = 5x5\n",
      "3000x3000 at 360 DPI = 8x8\n",
      "2000x2000 at 360 DPI = 5x5\n",
      "500x500 at 360 DPI = 0z0\n",
      "10x10 at 360 DPI = 0z0\n",
      "3255x4119 at 360 DPI = 0z1\n"
     ]
    }
   ],
   "source": [
    "def print_size_key(height, width, *, no_ratio='0z1', no_pixels='0z0', \n",
    "                   min_area=17.5, ppi=360, tolerance=0.000005):\n",
    "    \"\"\"\n",
    "    Compute print size key word from image dimensions. \n",
    "    The result is a character string.\n",
    "    \n",
    "      key360 = print_size_key(2000, 3000)\n",
    "      \n",
    "      # (ppi) is identical to dpi here\n",
    "      key720 = print_size_key(2000, 3000, ppi=720) \n",
    "    \"\"\"\n",
    "    \n",
    "    # basic argument check\n",
    "    error_message = '(height), (width) must be positive integers'\n",
    "    if not (isinstance(height, int) and isinstance(width, int)):\n",
    "        raise ValueError(error_message)\n",
    "    elif height <= 0 or width <= 0:\n",
    "        raise ValueError(error_message)\n",
    "    \n",
    "    # area must exceed a minimum size\n",
    "    print_area = dpi_area(height, width, dpi=ppi)\n",
    "    if print_area < min_area:\n",
    "        return no_pixels\n",
    "    \n",
    "    print_ratio = aspect_ratio(height, width)\n",
    "    print_key = no_ratio\n",
    "    for i, ratio in enumerate(aspect_ratios):\n",
    "        if abs(print_ratio - ratio) <= tolerance:\n",
    "            print_key = no_pixels\n",
    "            \n",
    "            # not enough or more than enough area\n",
    "            if print_area < print_areas[i][0]:\n",
    "                break\n",
    "            elif print_area > print_areas[i][-1]:\n",
    "                print_key = size_keywords[i][-1]\n",
    "                break     \n",
    "            \n",
    "            for j, area in enumerate(print_areas[i]):\n",
    "                if area >= print_area and 0 < j:\n",
    "                    print_key = size_keywords[i][j - 1]\n",
    "                    break\n",
    "                    \n",
    "    return print_key\n",
    "    \n",
    "# many sizes available for aspect ratio 1.0\n",
    "print('3800x3800 at 360 DPI = %s' % print_size_key(3800, 3800))\n",
    "print('3800x3800 at 720 DPI = %s' % print_size_key(3800, 3800, ppi=720))\n",
    "print('3000x3000 at 360 DPI = %s' % print_size_key(3000, 3000))\n",
    "print('2000x2000 at 360 DPI = %s' % print_size_key(2000, 2000))\n",
    "\n",
    "# not enough pixels\n",
    "print('500x500 at 360 DPI = %s' % print_size_key(500,500))\n",
    "print('10x10 at 360 DPI = %s' % print_size_key(10,10)) \n",
    "\n",
    "# no ratio \n",
    "print('3255x4119 at 360 DPI = %s' % print_size_key(3255, 4119))"
   ]
  },
  {
   "cell_type": "markdown",
   "metadata": {},
   "source": [
    "## Testing `print_size_key`\n",
    "\n",
    "The `print_size_key` function seems simple enough but when I see three `break` statements in a loop\n",
    "I set my bullshit detector to \n",
    "[eleven](https://duckduckgo.com/?q=you+tube+loudness+to+eleven&ia=videos&iax=videos&iai=4xgx4k83zzc) and start \n",
    "looking for bugs."
   ]
  },
  {
   "cell_type": "code",
   "execution_count": 7,
   "metadata": {},
   "outputs": [
    {
     "ename": "ValueError",
     "evalue": "(height), (width) must be positive integers",
     "output_type": "error",
     "traceback": [
      "\u001b[1;31m---------------------------------------------------------------------------\u001b[0m",
      "\u001b[1;31mValueError\u001b[0m                                Traceback (most recent call last)",
      "\u001b[1;32m<ipython-input-7-ad7ad15c9b15>\u001b[0m in \u001b[0;36m<module>\u001b[1;34m()\u001b[0m\n\u001b[1;32m----> 1\u001b[1;33m \u001b[0mprint_size_key\u001b[0m\u001b[1;33m(\u001b[0m\u001b[1;34m'not'\u001b[0m\u001b[1;33m,\u001b[0m \u001b[1;34m'even_wrong'\u001b[0m\u001b[1;33m)\u001b[0m \u001b[1;31m# throw exception\u001b[0m\u001b[1;33m\u001b[0m\u001b[0m\n\u001b[0m",
      "\u001b[1;32m<ipython-input-6-d17551335fb3>\u001b[0m in \u001b[0;36mprint_size_key\u001b[1;34m(height, width, no_ratio, no_pixels, min_area, ppi, tolerance)\u001b[0m\n\u001b[0;32m     14\u001b[0m     \u001b[0merror_message\u001b[0m \u001b[1;33m=\u001b[0m \u001b[1;34m'(height), (width) must be positive integers'\u001b[0m\u001b[1;33m\u001b[0m\u001b[0m\n\u001b[0;32m     15\u001b[0m     \u001b[1;32mif\u001b[0m \u001b[1;32mnot\u001b[0m \u001b[1;33m(\u001b[0m\u001b[0misinstance\u001b[0m\u001b[1;33m(\u001b[0m\u001b[0mheight\u001b[0m\u001b[1;33m,\u001b[0m \u001b[0mint\u001b[0m\u001b[1;33m)\u001b[0m \u001b[1;32mand\u001b[0m \u001b[0misinstance\u001b[0m\u001b[1;33m(\u001b[0m\u001b[0mwidth\u001b[0m\u001b[1;33m,\u001b[0m \u001b[0mint\u001b[0m\u001b[1;33m)\u001b[0m\u001b[1;33m)\u001b[0m\u001b[1;33m:\u001b[0m\u001b[1;33m\u001b[0m\u001b[0m\n\u001b[1;32m---> 16\u001b[1;33m         \u001b[1;32mraise\u001b[0m \u001b[0mValueError\u001b[0m\u001b[1;33m(\u001b[0m\u001b[0merror_message\u001b[0m\u001b[1;33m)\u001b[0m\u001b[1;33m\u001b[0m\u001b[0m\n\u001b[0m\u001b[0;32m     17\u001b[0m     \u001b[1;32melif\u001b[0m \u001b[0mheight\u001b[0m \u001b[1;33m<=\u001b[0m \u001b[1;36m0\u001b[0m \u001b[1;32mor\u001b[0m \u001b[0mwidth\u001b[0m \u001b[1;33m<=\u001b[0m \u001b[1;36m0\u001b[0m\u001b[1;33m:\u001b[0m\u001b[1;33m\u001b[0m\u001b[0m\n\u001b[0;32m     18\u001b[0m         \u001b[1;32mraise\u001b[0m \u001b[0mValueError\u001b[0m\u001b[1;33m(\u001b[0m\u001b[0merror_message\u001b[0m\u001b[1;33m)\u001b[0m\u001b[1;33m\u001b[0m\u001b[0m\n",
      "\u001b[1;31mValueError\u001b[0m: (height), (width) must be positive integers"
     ]
    }
   ],
   "source": [
    "print_size_key('not', 'even_wrong') # throw exception"
   ]
  },
  {
   "cell_type": "code",
   "execution_count": 8,
   "metadata": {},
   "outputs": [
    {
     "ename": "ValueError",
     "evalue": "(height), (width) must be positive integers",
     "output_type": "error",
     "traceback": [
      "\u001b[1;31m---------------------------------------------------------------------------\u001b[0m",
      "\u001b[1;31mValueError\u001b[0m                                Traceback (most recent call last)",
      "\u001b[1;32m<ipython-input-8-8f6d7c9cf898>\u001b[0m in \u001b[0;36m<module>\u001b[1;34m()\u001b[0m\n\u001b[1;32m----> 1\u001b[1;33m \u001b[0mprint_size_key\u001b[0m\u001b[1;33m(\u001b[0m\u001b[1;33m-\u001b[0m\u001b[1;36m2\u001b[0m\u001b[1;33m,\u001b[0m \u001b[1;33m-\u001b[0m\u001b[1;36m3\u001b[0m\u001b[1;33m)\u001b[0m \u001b[1;31m# throw exception\u001b[0m\u001b[1;33m\u001b[0m\u001b[0m\n\u001b[0m",
      "\u001b[1;32m<ipython-input-6-d17551335fb3>\u001b[0m in \u001b[0;36mprint_size_key\u001b[1;34m(height, width, no_ratio, no_pixels, min_area, ppi, tolerance)\u001b[0m\n\u001b[0;32m     16\u001b[0m         \u001b[1;32mraise\u001b[0m \u001b[0mValueError\u001b[0m\u001b[1;33m(\u001b[0m\u001b[0merror_message\u001b[0m\u001b[1;33m)\u001b[0m\u001b[1;33m\u001b[0m\u001b[0m\n\u001b[0;32m     17\u001b[0m     \u001b[1;32melif\u001b[0m \u001b[0mheight\u001b[0m \u001b[1;33m<=\u001b[0m \u001b[1;36m0\u001b[0m \u001b[1;32mor\u001b[0m \u001b[0mwidth\u001b[0m \u001b[1;33m<=\u001b[0m \u001b[1;36m0\u001b[0m\u001b[1;33m:\u001b[0m\u001b[1;33m\u001b[0m\u001b[0m\n\u001b[1;32m---> 18\u001b[1;33m         \u001b[1;32mraise\u001b[0m \u001b[0mValueError\u001b[0m\u001b[1;33m(\u001b[0m\u001b[0merror_message\u001b[0m\u001b[1;33m)\u001b[0m\u001b[1;33m\u001b[0m\u001b[0m\n\u001b[0m\u001b[0;32m     19\u001b[0m \u001b[1;33m\u001b[0m\u001b[0m\n\u001b[0;32m     20\u001b[0m     \u001b[1;31m# area must exceed a minimum size\u001b[0m\u001b[1;33m\u001b[0m\u001b[1;33m\u001b[0m\u001b[0m\n",
      "\u001b[1;31mValueError\u001b[0m: (height), (width) must be positive integers"
     ]
    }
   ],
   "source": [
    "print_size_key(-2, -3) # throw exception"
   ]
  },
  {
   "cell_type": "code",
   "execution_count": 9,
   "metadata": {},
   "outputs": [
    {
     "ename": "ValueError",
     "evalue": "(height), (width) must be positive integers",
     "output_type": "error",
     "traceback": [
      "\u001b[1;31m---------------------------------------------------------------------------\u001b[0m",
      "\u001b[1;31mValueError\u001b[0m                                Traceback (most recent call last)",
      "\u001b[1;32m<ipython-input-9-b68524c01b6b>\u001b[0m in \u001b[0;36m<module>\u001b[1;34m()\u001b[0m\n\u001b[1;32m----> 1\u001b[1;33m \u001b[0mprint_size_key\u001b[0m\u001b[1;33m(\u001b[0m\u001b[1;36m0\u001b[0m\u001b[1;33m,\u001b[0m \u001b[1;36m50\u001b[0m\u001b[1;33m)\u001b[0m \u001b[1;31m# throw exception\u001b[0m\u001b[1;33m\u001b[0m\u001b[0m\n\u001b[0m",
      "\u001b[1;32m<ipython-input-6-d17551335fb3>\u001b[0m in \u001b[0;36mprint_size_key\u001b[1;34m(height, width, no_ratio, no_pixels, min_area, ppi, tolerance)\u001b[0m\n\u001b[0;32m     16\u001b[0m         \u001b[1;32mraise\u001b[0m \u001b[0mValueError\u001b[0m\u001b[1;33m(\u001b[0m\u001b[0merror_message\u001b[0m\u001b[1;33m)\u001b[0m\u001b[1;33m\u001b[0m\u001b[0m\n\u001b[0;32m     17\u001b[0m     \u001b[1;32melif\u001b[0m \u001b[0mheight\u001b[0m \u001b[1;33m<=\u001b[0m \u001b[1;36m0\u001b[0m \u001b[1;32mor\u001b[0m \u001b[0mwidth\u001b[0m \u001b[1;33m<=\u001b[0m \u001b[1;36m0\u001b[0m\u001b[1;33m:\u001b[0m\u001b[1;33m\u001b[0m\u001b[0m\n\u001b[1;32m---> 18\u001b[1;33m         \u001b[1;32mraise\u001b[0m \u001b[0mValueError\u001b[0m\u001b[1;33m(\u001b[0m\u001b[0merror_message\u001b[0m\u001b[1;33m)\u001b[0m\u001b[1;33m\u001b[0m\u001b[0m\n\u001b[0m\u001b[0;32m     19\u001b[0m \u001b[1;33m\u001b[0m\u001b[0m\n\u001b[0;32m     20\u001b[0m     \u001b[1;31m# area must exceed a minimum size\u001b[0m\u001b[1;33m\u001b[0m\u001b[1;33m\u001b[0m\u001b[0m\n",
      "\u001b[1;31mValueError\u001b[0m: (height), (width) must be positive integers"
     ]
    }
   ],
   "source": [
    "print_size_key(0, 50) # throw exception"
   ]
  },
  {
   "cell_type": "code",
   "execution_count": 10,
   "metadata": {},
   "outputs": [
    {
     "name": "stdout",
     "output_type": "stream",
     "text": [
      "True\n",
      "True\n",
      "True\n"
     ]
    }
   ],
   "source": [
    "print('0z0' == print_size_key(1,1))      # not enough pixels\n",
    "print('0z0' == print_size_key(20,20))    # not enough pixels\n",
    "print('0z0' == print_size_key(500,500))  # not enough pixels"
   ]
  },
  {
   "cell_type": "code",
   "execution_count": 11,
   "metadata": {},
   "outputs": [
    {
     "name": "stdout",
     "output_type": "stream",
     "text": [
      "True\n",
      "True\n",
      "True\n"
     ]
    }
   ],
   "source": [
    "print('0z1' == print_size_key(2000,2100))  # ratio not in table\n",
    "print('0z1' == print_size_key(4000,3500))  # ratio not in table\n",
    "print('0z1' == print_size_key(1000,5000))  # ratio not in table"
   ]
  },
  {
   "cell_type": "markdown",
   "metadata": {},
   "source": [
    "As `print_size_key` rounds ratios and areas you need slightly more pixels than you might expect \n",
    "for a given print size. In practice this is not an issue as digital images usually have\n",
    "more than enough pixels for small standard size prints."
   ]
  },
  {
   "cell_type": "code",
   "execution_count": 12,
   "metadata": {},
   "outputs": [
    {
     "name": "stdout",
     "output_type": "stream",
     "text": [
      "True\n",
      "True\n",
      "True\n",
      "True\n",
      "True\n",
      "True\n",
      "True\n",
      "True\n",
      "True\n"
     ]
    }
   ],
   "source": [
    "print('0z0' == print_size_key(int(3.5 * 350), 5 * 350))           # 3.5x5 not enough pixels\n",
    "print('3.5x5' == print_size_key(int(3.5 * 362), 5 * 362))         # 3.5x5\n",
    "print('7x10' == print_size_key(7 * 362, 10 * 362))                # 7x10\n",
    "print('5x6.7' == print_size_key(5 * 362, int(6.7 * 362)))         # 5x6.7\n",
    "print('8.5x11' == print_size_key(int(8.5 * 362), 11 * 362))       # 8.5x11\n",
    "print('10x10' == print_size_key(10 * 362, 10 * 362))              # 10x10\n",
    "print('10x10' == print_size_key(10 * 722, 10 * 722, ppi=720))     # 10x10 at 720 DPI\n",
    "print('5x30' == print_size_key(5 * 362, 30 * 362))                # 5x30\n",
    "print('5x10' == print_size_key(5 * 722, 10 * 722, ppi=720))       # 5x10 at 720 DPI"
   ]
  },
  {
   "cell_type": "code",
   "execution_count": 13,
   "metadata": {},
   "outputs": [
    {
     "name": "stdout",
     "output_type": "stream",
     "text": [
      "0z1\n",
      "0z1\n",
      "5x7\n",
      "5x7\n"
     ]
    }
   ],
   "source": [
    "# selected actual SmugMug image dimensions\n",
    "print(print_size_key(2396,1991))  \n",
    "print(print_size_key(2585,1736))\n",
    "print(print_size_key(4573,3259))\n",
    "print(print_size_key(2800,1999))"
   ]
  },
  {
   "cell_type": "markdown",
   "metadata": {},
   "source": [
    "## Calculating Print Size Keys for SmugMug Album Manifest Files\n",
    "\n",
    "In the first notebook of this series I used the SmugMug API to generate folders and files\n",
    "containing SmugMug image metadata stored in CSV TAB delimited files. Now I will read these manifest files and\n",
    "compute print size keys."
   ]
  },
  {
   "cell_type": "code",
   "execution_count": 14,
   "metadata": {},
   "outputs": [
    {
     "name": "stdout",
     "output_type": "stream",
     "text": [
      "4wqd5Hr 4x6 3021 2014\n",
      "K7JKbs8 0z1 2036 3122\n",
      "nFRxBh2 5x7 2665 3731\n",
      "xCdD7V8 0z1 2585 1736\n",
      "sTXnpLm 4x6 2192 3289\n",
      "VG2s4WG 5x7 3659 2613\n",
      "kNRs3X8 4x6 1694 2543\n",
      "Qjs2hr6 4x6 3848 2559\n",
      "qbXqVgC 4x6 2633 3949\n",
      "ZdzNXm3 0z1 1162 2506\n",
      "vF4Bwpg 5x7 2531 3542\n",
      "7WbqpMj 4x5 3211 2566\n",
      "2cCVDMK 0z0 1846 2398\n",
      "36kBgrv 0z1 2396 1991\n",
      "2FzVqjP 0z1 1887 2398\n"
     ]
    }
   ],
   "source": [
    "import csv\n",
    "\n",
    "with open('c:\\SmugMirror\\Places\\Overseas\\Ghana1970s\\manifest-Ghana1970s-Kng6tg.txt', 'r') as f:\n",
    "    reader = csv.DictReader(f, dialect='excel', delimiter='\\t')                     \n",
    "    for row in reader:\n",
    "        key = row['ImageKey']\n",
    "        height , width = int(row['OriginalHeight']), int(row['OriginalWidth'])\n",
    "        size_key = print_size_key(height, width)\n",
    "        print(key, size_key, height, width)"
   ]
  },
  {
   "cell_type": "markdown",
   "metadata": {},
   "source": [
    "The print size keys computed by the Python `print_size_key` function match the keys computed by\n",
    "the J verb `printsizekey`.  \n",
    "\n",
    "     printsizekey=:3 : 0\n",
    "\n",
    "     NB.*printsizekey v-- j version of python (print_size_key).\n",
    "     NB.\n",
    "     NB. monad:  st =. printsizekey btclManifest\n",
    "     NB.\n",
    "     NB.   mf0=. readtd2 'C:\\SmugMirror\\Places\\Overseas\\Ghana1970s\\manifest-Ghana1970s-Kng6tg.txt'\n",
    "     NB.   mf1=. readtd2 'C:\\SmugMirror\\Themes\\Diaries\\CellPhoningItIn\\manifest-CellPhoningItIn-PfCsJz.txt'\n",
    "     NB.   printsizekey mf0\n",
    "     NB.   printsizekey mf1\n",
    "     NB.\n",
    "     NB. dyad:  st =. iaDpi printsizekey btclManifest\n",
    "     NB.\n",
    "     NB.   720 printsizekey mf1\n",
    "\n",
    "     SMUGPRINTDPI printsizekey y\n",
    "     :\n",
    "     NB. image keys and dimensions \n",
    "     d=. y {\"1~ (0{y) i. ;:'ImageKey OriginalHeight OriginalWidth'\n",
    "     f=. |: _1&\".&> d=. 1 2 {\"1 }. d\n",
    "     'invalid image dimensions' assert 0 < ,f\n",
    "\n",
    "     NB. default print size keys\n",
    "     'area ratio'=. (SMUGASPECTROUND,SMUGAREAROUND,x) dpiarearatio f \n",
    "     keys=. (#ratio) # s: <NORATIOKEY\n",
    "\n",
    "     NB. print sizes for image ratios\n",
    "     pst=.  SMUGASPECTROUND printsizestable SMUGPYTERSIZES\n",
    "     ast=.  ;0{\"1 pst\n",
    "     m0=.   ratio e. ast\n",
    "     idx=.  (ast i. ratio) -. #ast\n",
    "     pst=.  idx { pst\n",
    "\n",
    "     NB. images without enough pixels\n",
    "     area=. <\"0 m0 # area\n",
    "     m1=.   (1 {\"1 pst) <&.> area\n",
    "     m2=.   +./&> m1\n",
    "     keys=. (s: <NOPIXELSKEY) (I. m0 #^:_1 -. m2)} keys\n",
    "\n",
    "     NB. largest print sizes for enough pixels\n",
    "     sizes=. ,(I.@lastones&.> m2#m1) {&> 2 {\"1 m2#pst\n",
    "     keys=. sizes(I. m0 #^:_1 m2)} keys\n",
    "\n",
    "     NB. image keys, print size keys, pixels\n",
    "     NB. smoutput (<\"0  m0 # keys) ,. area ,. pst \n",
    "     (s: }.0 {\"1 y) , keys , |: s: d \n",
    "     )\n",
    "     \n",
    "     \t mf0=. readtd2 'C:\\SmugMirror\\Places\\Overseas\\Ghana1970s\\manifest-Ghana1970s-Kng6tg.txt'\n",
    "         |: printsizekey mf0\n",
    "     `4wqd5Hr `4x6 `3021 `2014\n",
    "     `K7JKbs8 `0z1 `2036 `3122\n",
    "     `nFRxBh2 `5x7 `2665 `3731\n",
    "     `xCdD7V8 `0z1 `2585 `1736\n",
    "     `sTXnpLm `4x6 `2192 `3289\n",
    "     `VG2s4WG `5x7 `3659 `2613\n",
    "     `kNRs3X8 `4x6 `1694 `2543\n",
    "     `Qjs2hr6 `4x6 `3848 `2559\n",
    "     `qbXqVgC `4x6 `2633 `3949\n",
    "     `ZdzNXm3 `0z1 `1162 `2506\n",
    "     `vF4Bwpg `5x7 `2531 `3542\n",
    "     `7WbqpMj `4x5 `3211 `2566\n",
    "     `2cCVDMK `0z0 `1846 `2398\n",
    "     `36kBgrv `0z1 `2396 `1991\n",
    "     `2FzVqjP `0z1 `1887 `2398\n",
    "\t \n",
    "The J verb and the Python function use completely different approaches but arrive at\n",
    "the same result. If you really care about the answer do it more than once and practice relentless verification."
   ]
  },
  {
   "cell_type": "markdown",
   "metadata": {},
   "source": [
    "The following functions generalize setting print size keywords for manifest files."
   ]
  },
  {
   "cell_type": "code",
   "execution_count": 28,
   "metadata": {
    "collapsed": true
   },
   "outputs": [],
   "source": [
    "import re\n",
    "\n",
    "def update_size_keyword(size_keyword, keywords, split_delimiter=';'):\n",
    "    \"\"\"\n",
    "    Update the print size keyword for a single image\n",
    "    and standarize the format of any remaining keywords.\n",
    "    Result is a string\n",
    "    \"\"\"\n",
    "    # basic argument check\n",
    "    error_message = '(size_keyword), (keywords) must be strings'\n",
    "    if not (isinstance(size_keyword, str) and isinstance(keywords, str)):\n",
    "        raise ValueError(error_message)\n",
    "    elif len(size_keyword.strip(' ')) == 0:\n",
    "        raise ValueError(error_message)\n",
    "        \n",
    "    if len(keywords.strip(' ')) == 0:\n",
    "        return size_keyword\n",
    "    \n",
    "    inkeys = keywords.split(split_delimiter)\n",
    "    if 0 == len(inkeys):\n",
    "        return size_keyword\n",
    "    \n",
    "    outkeys = [size_keyword]\n",
    "    for inword in inkeys:\n",
    "        outword = inword.strip(' ').lower()\n",
    "        # remove any existing print size keys\n",
    "        if re.match(r\"\\d+(\\.\\d+)?[xz]\\d+(\\.\\d+)?\", outword) is not None:\n",
    "            continue\n",
    "        else:\n",
    "            outkeys.append(outword)\n",
    "            \n",
    "    # return unique sorted keys\n",
    "    outkeys = sorted(list(set(outkeys)))\n",
    "    return (split_delimiter+' ').join(outkeys)\n",
    "\n",
    "def print_keywords(manifest_file):\n",
    "    \"\"\"\n",
    "    Set print size keywords for images in album manifest file.\n",
    "    Result is a dictionary indexed by SmugMug image keys.\n",
    "    \"\"\"\n",
    "    image_keywords = {}\n",
    "    with open(manifest_file, 'r') as f:\n",
    "        reader = csv.DictReader(f, dialect='excel', delimiter='\\t')                     \n",
    "        for row in reader:\n",
    "            key = row['ImageKey']\n",
    "            height , width = int(row['OriginalHeight']), int(row['OriginalWidth'])\n",
    "            size_key = print_size_key(height, width)\n",
    "            keywords = update_size_keyword(size_key, row['Keywords'])\n",
    "            #print(key, size_key, height, width, keywords)\n",
    "            image_keywords[key] = {'SizeKey':size_key, 'Height':height, \n",
    "                                   'Width':width, 'Keywords':keywords}\n",
    "    return image_keywords"
   ]
  },
  {
   "cell_type": "code",
   "execution_count": 16,
   "metadata": {},
   "outputs": [
    {
     "data": {
      "text/plain": [
       "{'2FzVqjP': {'Height': 1887,\n",
       "  'Keywords': '0z1; school; secondary; student',\n",
       "  'SizeKey': '0z1',\n",
       "  'Width': 2398},\n",
       " '2cCVDMK': {'Height': 1846,\n",
       "  'Keywords': '0z0; girl; ground; working',\n",
       "  'SizeKey': '0z0',\n",
       "  'Width': 2398},\n",
       " '36kBgrv': {'Height': 2396,\n",
       "  'Keywords': '0z1; african; coordinate; day; know; me; ouagadougou; statue',\n",
       "  'SizeKey': '0z1',\n",
       "  'Width': 1991},\n",
       " '4wqd5Hr': {'Height': 3021,\n",
       "  'Keywords': '4x6; boy; corn; ghana; harvest; tamale',\n",
       "  'SizeKey': '4x6',\n",
       "  'Width': 2014},\n",
       " '7WbqpMj': {'Height': 3211,\n",
       "  'Keywords': '4x5; door; girl; reading',\n",
       "  'SizeKey': '4x5',\n",
       "  'Width': 2566},\n",
       " 'K7JKbs8': {'Height': 2036,\n",
       "  'Keywords': '0z1; corn; ghana; harvest; students; tamale',\n",
       "  'SizeKey': '0z1',\n",
       "  'Width': 3122},\n",
       " 'Qjs2hr6': {'Height': 3848,\n",
       "  'Keywords': '4x6; ghana; lunch; school; secondary; student',\n",
       "  'SizeKey': '4x6',\n",
       "  'Width': 2559},\n",
       " 'VG2s4WG': {'Height': 3659,\n",
       "  'Keywords': '5x7; beach; boat; ghana; girl',\n",
       "  'SizeKey': '5x7',\n",
       "  'Width': 2613},\n",
       " 'ZdzNXm3': {'Height': 1162,\n",
       "  'Keywords': '0z1; banknote; cedis; controlled; ghana; good; rendered; two',\n",
       "  'SizeKey': '0z1',\n",
       "  'Width': 2506},\n",
       " 'kNRs3X8': {'Height': 1694,\n",
       "  'Keywords': '4x6; ghana; mid; school; secondary; seventies; tamale',\n",
       "  'SizeKey': '4x6',\n",
       "  'Width': 2543},\n",
       " 'nFRxBh2': {'Height': 2665,\n",
       "  'Keywords': '5x7; catholic; depression; ghana; school',\n",
       "  'SizeKey': '5x7',\n",
       "  'Width': 3731},\n",
       " 'qbXqVgC': {'Height': 2633,\n",
       "  'Keywords': '4x6; bungalows; ghana; school; secondary; teacher',\n",
       "  'SizeKey': '4x6',\n",
       "  'Width': 3949},\n",
       " 'sTXnpLm': {'Height': 2192,\n",
       "  'Keywords': '4x6; beach; cuso; ghana',\n",
       "  'SizeKey': '4x6',\n",
       "  'Width': 3289},\n",
       " 'vF4Bwpg': {'Height': 2531,\n",
       "  'Keywords': '5x7; ghanasco; team; track',\n",
       "  'SizeKey': '5x7',\n",
       "  'Width': 3542},\n",
       " 'xCdD7V8': {'Height': 2585,\n",
       "  'Keywords': '0z1; dimmed; dry; season; sun',\n",
       "  'SizeKey': '0z1',\n",
       "  'Width': 1736}}"
      ]
     },
     "execution_count": 16,
     "metadata": {},
     "output_type": "execute_result"
    }
   ],
   "source": [
    "print_keywords('c:\\SmugMirror\\Places\\Overseas\\Ghana1970s\\manifest-Ghana1970s-Kng6tg.txt')"
   ]
  },
  {
   "cell_type": "markdown",
   "metadata": {},
   "source": [
    "## Testing `update_size_keyword`"
   ]
  },
  {
   "cell_type": "code",
   "execution_count": 29,
   "metadata": {},
   "outputs": [
    {
     "ename": "ValueError",
     "evalue": "(size_keyword), (keywords) must be strings",
     "output_type": "error",
     "traceback": [
      "\u001b[1;31m---------------------------------------------------------------------------\u001b[0m",
      "\u001b[1;31mValueError\u001b[0m                                Traceback (most recent call last)",
      "\u001b[1;32m<ipython-input-29-5909490977eb>\u001b[0m in \u001b[0;36m<module>\u001b[1;34m()\u001b[0m\n\u001b[1;32m----> 1\u001b[1;33m \u001b[0mupdate_size_keyword\u001b[0m\u001b[1;33m(\u001b[0m\u001b[1;34m'4x5'\u001b[0m\u001b[1;33m,\u001b[0m \u001b[1;36m3\u001b[0m\u001b[1;33m)\u001b[0m  \u001b[1;31m# throw exception\u001b[0m\u001b[1;33m\u001b[0m\u001b[0m\n\u001b[0m",
      "\u001b[1;32m<ipython-input-28-1277091a0ce8>\u001b[0m in \u001b[0;36mupdate_size_keyword\u001b[1;34m(size_keyword, keywords, split_delimiter)\u001b[0m\n\u001b[0;32m     10\u001b[0m     \u001b[0merror_message\u001b[0m \u001b[1;33m=\u001b[0m \u001b[1;34m'(size_keyword), (keywords) must be strings'\u001b[0m\u001b[1;33m\u001b[0m\u001b[0m\n\u001b[0;32m     11\u001b[0m     \u001b[1;32mif\u001b[0m \u001b[1;32mnot\u001b[0m \u001b[1;33m(\u001b[0m\u001b[0misinstance\u001b[0m\u001b[1;33m(\u001b[0m\u001b[0msize_keyword\u001b[0m\u001b[1;33m,\u001b[0m \u001b[0mstr\u001b[0m\u001b[1;33m)\u001b[0m \u001b[1;32mand\u001b[0m \u001b[0misinstance\u001b[0m\u001b[1;33m(\u001b[0m\u001b[0mkeywords\u001b[0m\u001b[1;33m,\u001b[0m \u001b[0mstr\u001b[0m\u001b[1;33m)\u001b[0m\u001b[1;33m)\u001b[0m\u001b[1;33m:\u001b[0m\u001b[1;33m\u001b[0m\u001b[0m\n\u001b[1;32m---> 12\u001b[1;33m         \u001b[1;32mraise\u001b[0m \u001b[0mValueError\u001b[0m\u001b[1;33m(\u001b[0m\u001b[0merror_message\u001b[0m\u001b[1;33m)\u001b[0m\u001b[1;33m\u001b[0m\u001b[0m\n\u001b[0m\u001b[0;32m     13\u001b[0m     \u001b[1;32melif\u001b[0m \u001b[0mlen\u001b[0m\u001b[1;33m(\u001b[0m\u001b[0msize_keyword\u001b[0m\u001b[1;33m.\u001b[0m\u001b[0mstrip\u001b[0m\u001b[1;33m(\u001b[0m\u001b[1;34m' '\u001b[0m\u001b[1;33m)\u001b[0m\u001b[1;33m)\u001b[0m \u001b[1;33m==\u001b[0m \u001b[1;36m0\u001b[0m\u001b[1;33m:\u001b[0m\u001b[1;33m\u001b[0m\u001b[0m\n\u001b[0;32m     14\u001b[0m         \u001b[1;32mraise\u001b[0m \u001b[0mValueError\u001b[0m\u001b[1;33m(\u001b[0m\u001b[0merror_message\u001b[0m\u001b[1;33m)\u001b[0m\u001b[1;33m\u001b[0m\u001b[0m\n",
      "\u001b[1;31mValueError\u001b[0m: (size_keyword), (keywords) must be strings"
     ]
    }
   ],
   "source": [
    "update_size_keyword('4x5', 3)  # throw exception"
   ]
  },
  {
   "cell_type": "code",
   "execution_count": 30,
   "metadata": {},
   "outputs": [
    {
     "ename": "ValueError",
     "evalue": "(size_keyword), (keywords) must be strings",
     "output_type": "error",
     "traceback": [
      "\u001b[1;31m---------------------------------------------------------------------------\u001b[0m",
      "\u001b[1;31mValueError\u001b[0m                                Traceback (most recent call last)",
      "\u001b[1;32m<ipython-input-30-7f5377ee226c>\u001b[0m in \u001b[0;36m<module>\u001b[1;34m()\u001b[0m\n\u001b[1;32m----> 1\u001b[1;33m \u001b[0mupdate_size_keyword\u001b[0m\u001b[1;33m(\u001b[0m\u001b[1;34m''\u001b[0m\u001b[1;33m,\u001b[0m \u001b[1;34m' ok; but; size; key; bad'\u001b[0m\u001b[1;33m)\u001b[0m  \u001b[1;31m# throw exception\u001b[0m\u001b[1;33m\u001b[0m\u001b[0m\n\u001b[0m",
      "\u001b[1;32m<ipython-input-28-1277091a0ce8>\u001b[0m in \u001b[0;36mupdate_size_keyword\u001b[1;34m(size_keyword, keywords, split_delimiter)\u001b[0m\n\u001b[0;32m     12\u001b[0m         \u001b[1;32mraise\u001b[0m \u001b[0mValueError\u001b[0m\u001b[1;33m(\u001b[0m\u001b[0merror_message\u001b[0m\u001b[1;33m)\u001b[0m\u001b[1;33m\u001b[0m\u001b[0m\n\u001b[0;32m     13\u001b[0m     \u001b[1;32melif\u001b[0m \u001b[0mlen\u001b[0m\u001b[1;33m(\u001b[0m\u001b[0msize_keyword\u001b[0m\u001b[1;33m.\u001b[0m\u001b[0mstrip\u001b[0m\u001b[1;33m(\u001b[0m\u001b[1;34m' '\u001b[0m\u001b[1;33m)\u001b[0m\u001b[1;33m)\u001b[0m \u001b[1;33m==\u001b[0m \u001b[1;36m0\u001b[0m\u001b[1;33m:\u001b[0m\u001b[1;33m\u001b[0m\u001b[0m\n\u001b[1;32m---> 14\u001b[1;33m         \u001b[1;32mraise\u001b[0m \u001b[0mValueError\u001b[0m\u001b[1;33m(\u001b[0m\u001b[0merror_message\u001b[0m\u001b[1;33m)\u001b[0m\u001b[1;33m\u001b[0m\u001b[0m\n\u001b[0m\u001b[0;32m     15\u001b[0m \u001b[1;33m\u001b[0m\u001b[0m\n\u001b[0;32m     16\u001b[0m     \u001b[1;32mif\u001b[0m \u001b[0mlen\u001b[0m\u001b[1;33m(\u001b[0m\u001b[0mkeywords\u001b[0m\u001b[1;33m.\u001b[0m\u001b[0mstrip\u001b[0m\u001b[1;33m(\u001b[0m\u001b[1;34m' '\u001b[0m\u001b[1;33m)\u001b[0m\u001b[1;33m)\u001b[0m \u001b[1;33m==\u001b[0m \u001b[1;36m0\u001b[0m\u001b[1;33m:\u001b[0m\u001b[1;33m\u001b[0m\u001b[0m\n",
      "\u001b[1;31mValueError\u001b[0m: (size_keyword), (keywords) must be strings"
     ]
    }
   ],
   "source": [
    "update_size_keyword('', ' ok; but; size; key; bad')  # throw exception"
   ]
  },
  {
   "cell_type": "code",
   "execution_count": 31,
   "metadata": {},
   "outputs": [
    {
     "name": "stdout",
     "output_type": "stream",
     "text": [
      "True\n",
      "True\n",
      "True\n",
      "True\n",
      "True\n",
      "True\n"
     ]
    }
   ],
   "source": [
    "print('4x6' == update_size_keyword('4x6', '')) \n",
    "print('4x6' == update_size_keyword('4x6', '     ')) \n",
    "print('4x6; boo' == update_size_keyword('4x6', 'boo')) \n",
    "print('4x6; aha; boo; boys' == update_size_keyword('4x6', 'aha; boo; BOO; boo; boys'))\n",
    "print('4x6' == update_size_keyword('4x6', '5x7; 8x12; 3x4; 3.5x5')) \n",
    "print('4x6; boo; home; yo' == update_size_keyword('4x6', '5x7; 8x12; 3x4; 3.5x5; yo; yo; home; BOO')) "
   ]
  },
  {
   "cell_type": "markdown",
   "metadata": {},
   "source": [
    "## Posting SmugMug Print Size Keywords\n",
    "\n",
    "The next step is to post the computed print size keywords to SmugMug. For this, we need\n",
    "an API call that sets keywords. The `SmugPyter` class does have a keyword setting function. \n",
    "We will have to fake it.\n",
    "\n",
    "In case you are wondering, faking it is a fundamental skill that all programmers must master.\n",
    "Remember how Scotty in the original Star Trek series constantly told Kirk that he couldn't\n",
    "sustain high warp without wreaking the Enterprise but somehow always managed to do it and walk away\n",
    "intact. Sure the Enterprise wasn't designed for the stresses it was forced to endure but Scotty\n",
    "hacked it on the fly. \n",
    "\n",
    "A lot of programming is like that. You're working with half-baked buggy tools that will not\n",
    "sustain warp but you have to pull it off. Be grateful you're not dodging photon torpedoes."
   ]
  },
  {
   "cell_type": "code",
   "execution_count": 18,
   "metadata": {
    "collapsed": true
   },
   "outputs": [],
   "source": [
    "import smugpyter\n",
    "\n",
    "smugmug = smugpyter.SmugPyter()"
   ]
  },
  {
   "cell_type": "code",
   "execution_count": 19,
   "metadata": {},
   "outputs": [
    {
     "data": {
      "text/plain": [
       "True"
      ]
     },
     "execution_count": 19,
     "metadata": {},
     "output_type": "execute_result"
    }
   ],
   "source": [
    "smugmug.verbose = True\n",
    "smugmug.verbose"
   ]
  },
  {
   "cell_type": "code",
   "execution_count": 20,
   "metadata": {},
   "outputs": [
    {
     "name": "stdout",
     "output_type": "stream",
     "text": [
      "\n",
      "REQUEST:\n",
      "method=GET\n",
      "url=https://api.smugmug.com/api/v2/folder/user/conceptcontrol!folders\n",
      "params={}\n",
      "headers={'Accept': 'application/json'}\n",
      "data=None\n",
      "RESPONSE DATA:\n",
      "b'{\"Options\":{\"Methods\":[\"GET\"],\"ParameterDescription\":{\"Varchar\":\"Variable length text from MIN_CHA ... UriDescription\":\"Folders inside of the folder\",\"EndpointType\":\"Folders\"},\"Code\":200,\"Message\":\"Ok\"}'\n"
     ]
    },
    {
     "data": {
      "text/plain": [
       "[{'Name': 'People', 'NodeID': 'qHr93', 'UrlName': 'People'},\n",
       " {'Name': 'Places', 'NodeID': 'J5wzG', 'UrlName': 'Places'},\n",
       " {'Name': 'Trips', 'NodeID': 'PgwWL', 'UrlName': 'Trips'},\n",
       " {'Name': 'Themes', 'NodeID': 'j7VKf', 'UrlName': 'Themes'},\n",
       " {'Name': 'Other', 'NodeID': 'L7kKx', 'UrlName': 'Other'}]"
      ]
     },
     "execution_count": 20,
     "metadata": {},
     "output_type": "execute_result"
    }
   ],
   "source": [
    "smugmug.get_folders()"
   ]
  },
  {
   "cell_type": "code",
   "execution_count": 22,
   "metadata": {},
   "outputs": [],
   "source": [
    "import json\n",
    "image_id = '8rjZsTB'\n",
    "data = {\"Keywords\": \"ying; yang; symbol;t0\"}\n",
    "\n",
    "#response = smugmug.request('GET', smugmug.smugmug_api_base_url + \"/image/\"+image_id+\"!download\", \n",
    "#                                headers={'Accept': 'application/json'})\n",
    "\n",
    "#response = smugmug.request_once('PATCH', smugmug.smugmug_api_base_url + \"/image/\"+image_id+\"-0?_method=PATCH\",\n",
    "#                                params={\"Keywords\": \"ying; yang; symbol;t0\"},\n",
    "#                                headers={'Accept': 'application/json', 'Content-Type': 'application/json'},\n",
    "#                                header_auth=True)\n",
    "\n",
    "\n",
    "#response = smugmug.request_once('PATCH', \n",
    "#                                 smugmug.smugmug_api_base_url + \"/image/\"+image_id+\"-0?_method=PATCH\", \n",
    "#                                 data=json.dumps(data), \n",
    "#                                 headers={'Accept': 'application/json', 'Content-Type': 'application/json'},\n",
    "#                                 header_auth=True\n",
    "#                                 )\n",
    "\n",
    "#print(response)\n"
   ]
  },
  {
   "cell_type": "code",
   "execution_count": 23,
   "metadata": {},
   "outputs": [
    {
     "name": "stdout",
     "output_type": "stream",
     "text": [
      "\n",
      "REQUEST:\n",
      "method=GET\n",
      "url=https://api.smugmug.com/api/v2/image/xCdD7V8!download\n",
      "params={}\n",
      "headers={'Accept': 'application/json'}\n",
      "data=None\n",
      "RESPONSE DATA:\n",
      "b'{\"Response\":{\"Uri\":\"/api/v2/image/xCdD7V8!download\",\"Locator\":\"ImageDownload\",\"LocatorType\":\"Objec ... ge\"}}},\"UriDescription\":\"Download image\",\"EndpointType\":\"ImageDownload\"},\"Code\":200,\"Message\":\"Ok\"}'\n"
     ]
    },
    {
     "data": {
      "text/plain": [
       "'https://photos.smugmug.com/Places/Overseas-Places/Ghana-1970s/i-xCdD7V8/0/3cdb2825/D/dry%20season%20sun%20%5B9622633%5D-D.jpg'"
      ]
     },
     "execution_count": 23,
     "metadata": {},
     "output_type": "execute_result"
    }
   ],
   "source": [
    "smugmug.get_image_download_url('xCdD7V8')"
   ]
  },
  {
   "cell_type": "markdown",
   "metadata": {
    "collapsed": true
   },
   "source": [
    "## Next on the Agenda!\n",
    "\n",
    "Remember, always [Analyze the Data not the Drivel](https://analyzethedatanotthedrivel.org/).\n",
    "\n",
    "John Baker, Meridian Idaho"
   ]
  }
 ],
 "metadata": {
  "kernelspec": {
   "display_name": "Python 3",
   "language": "python",
   "name": "python3"
  },
  "language_info": {
   "codemirror_mode": {
    "name": "ipython",
    "version": 3
   },
   "file_extension": ".py",
   "mimetype": "text/x-python",
   "name": "python",
   "nbconvert_exporter": "python",
   "pygments_lexer": "ipython3",
   "version": "3.6.3"
  }
 },
 "nbformat": 4,
 "nbformat_minor": 2
}
