{
 "cells": [
  {
   "cell_type": "markdown",
   "metadata": {},
   "source": [
    "## Mirror SmugMug Statistics\n",
    "\n",
    "This notebook runs queries against the `sqlite` database `mirror.db` that holds consolidated SmugMug online image metadata."
   ]
  },
  {
   "cell_type": "code",
   "execution_count": 1,
   "metadata": {
    "scrolled": true
   },
   "outputs": [
    {
     "name": "stdout",
     "output_type": "stream",
     "text": [
      "\n",
      "j903/j64avx2/darwin/release-a/commercial/www.jsoftware.com/2021-12-16T15:26:50/clang-13-0-0/SLEEF=1\n",
      "06 Feb 2022 12:04:41\n"
     ]
    }
   ],
   "source": [
    "NB. J version - notebook runtime\n",
    "smoutput 9!:14''\n",
    "smoutput timestamp 6!:0 ''"
   ]
  },
  {
   "cell_type": "code",
   "execution_count": 2,
   "metadata": {},
   "outputs": [],
   "source": [
    "NB. required addons - set portable box characters\n",
    "load 'data/sqlite general/jod'\n",
    "0 0$portchars ''"
   ]
  },
  {
   "cell_type": "markdown",
   "metadata": {},
   "source": [
    "### Load Utilities and SQLITE data"
   ]
  },
  {
   "cell_type": "code",
   "execution_count": 3,
   "metadata": {},
   "outputs": [
    {
     "name": "stdout",
     "output_type": "stream",
     "text": [
      "ALTMIRRORDBPATH          AlbumImageCount          AlbumImageCount_sql      \n",
      "GeotaggedAlbumImages_sql MIRRORDB                 MIRRORDBPATH             \n",
      "MeeusHomeLonLat          NotDivisible             albdist                  \n",
      "albextent                antimode                 arctan                   \n",
      "assert                   beforestr                charsub                  \n",
      "cos                      dbquote                  dev                      \n",
      "dstat                    earthdist                freq                     \n",
      "itYMDhms                 kurtosis                 mean                     \n",
      "meanalbdist              meanalblonlat            median                   \n",
      "midpt                    mirrorcn                 mode2                    \n",
      "nonemptyalbums           ofreq                    pwcf                     \n",
      "q1                       q3                       rfd                      \n",
      "round                    sin                      skewness                 \n",
      "ssdev                    stddev                   var                      \n",
      "+-+------------------------+\n",
      "|1|mirrorstats group loaded|\n",
      "+-+------------------------+\n"
     ]
    }
   ],
   "source": [
    "NB. open dictionaries and fetch \n",
    "od ;:'imex smugpyter utils' [ 3 od ''\n",
    "smoutput 75 list }. grp 'mirrorstats'\n",
    "smoutput lg 'mirrorstats'"
   ]
  },
  {
   "cell_type": "code",
   "execution_count": 4,
   "metadata": {},
   "outputs": [
    {
     "name": "stdout",
     "output_type": "stream",
     "text": [
      "~/pd/dbs/mirror.db\n"
     ]
    }
   ],
   "source": [
    "NB. set sqlite db file\n",
    "(3 : 0)''\n",
    "ALTMIRRORDBPATH=:''\n",
    "if.     IFWIN  do. ALTMIRRORDBPATH=:'c:/pd/diaries/'\n",
    "elseif. IFUNIX do. ALTMIRRORDBPATH=:'~/pd/dbs/'\n",
    "end.\n",
    "if. fexist dbf=: ALTMIRRORDBPATH,MIRRORDB do. dbf else. 'db not set' end.\n",
    ")\n",
    "smoutput dbf"
   ]
  },
  {
   "cell_type": "code",
   "execution_count": 5,
   "metadata": {},
   "outputs": [
    {
     "name": "stdout",
     "output_type": "stream",
     "text": [
      "+------+--------------+\n",
      "|Tables|Album         |\n",
      "|      |ImageAlbumXr  |\n",
      "|      |ImageKeywordXr|\n",
      "|      |LocalImage    |\n",
      "|      |LocalPath     |\n",
      "|      |OnlineImage   |\n",
      "|      |OnlineKeyword |\n",
      "+------+--------------+\n",
      "+-------------------+------------------------------------------------+\n",
      "|OnlineImage columns|ImageKey        OnlineImageFile ArchivedMD5     |\n",
      "|                   |ArchivedSize    Latitude        Longitude       |\n",
      "|                   |Altitude        OriginalHeight  OriginalWidth   |\n",
      "|                   |RealDate        UploadDate      LastUpdated     |\n",
      "|                   |Uri             ThumbnailUrl    Keywords        |\n",
      "|                   |Caption                                         |\n",
      "+-------------------+------------------------------------------------+\n",
      "+-------------+------------------------------------+\n",
      "|Album columns|AlbumKey          LocalPathID       |\n",
      "|             |LocalPresent      OnlineImageCount  |\n",
      "|             |OnlineCreateDate  LastUpdated       |\n",
      "|             |ImagesLastUpdated AlbumName         |\n",
      "|             |ParentFolders     WebUri            |\n",
      "|             |AlbumDescription                    |\n",
      "+-------------+------------------------------------+\n"
     ]
    }
   ],
   "source": [
    "NB. fetch table columns\n",
    "db=: sqlopen_psqlite_ dbf\n",
    "showpass 'Tables' ;< >sqltables__db ''\n",
    "(;0{oi)=: ;1{oi=: sqlread__db 'select * from OnlineImage order by UpLoadDate desc'\n",
    "showpass 'OnlineImage columns' ; 50 list ;0{oi\n",
    "(;0{al)=: ;1{al=: sqlread__db 'select * from Album order by OnlineImageCount desc'\n",
    "'Album columns' ; 50 list ;0{al"
   ]
  },
  {
   "cell_type": "markdown",
   "metadata": {},
   "source": [
    "### Total Online Image Count"
   ]
  },
  {
   "cell_type": "code",
   "execution_count": 6,
   "metadata": {},
   "outputs": [
    {
     "name": "stdout",
     "output_type": "stream",
     "text": [
      "+-----------+\n",
      "|OnlineCount|\n",
      "+-----------+\n",
      "|4966       |\n",
      "+-----------+\n"
     ]
    }
   ],
   "source": [
    "sqlreads__db 'select count(*) as OnlineCount from OnlineImage'"
   ]
  },
  {
   "cell_type": "markdown",
   "metadata": {},
   "source": [
    "### Recent Image Additions"
   ]
  },
  {
   "cell_type": "code",
   "execution_count": 7,
   "metadata": {},
   "outputs": [
    {
     "name": "stdout",
     "output_type": "stream",
     "text": [
      "2022-01-26 - me snow shoeing ketchum hemingway.jpg    \n",
      "2022-01-26 - mali hemingway memorial winter.jpg       \n",
      "2022-01-25 - me roundhouse deck sun valley.jpg        \n",
      "2022-01-25 - skiing in hell.jpg                       \n",
      "2022-01-26 - me mali sun valley lodge pool collage.jpg\n",
      "2022-01-26 - me snow shoeing ketchum.jpg              \n",
      "2022-01-26 - cross country sun valley.jpg             \n",
      "2022-01-25 - roundhouse sun valley panorama.jpg       \n",
      "2022-01-26 - snow shoe trail bald mountain.jpg        \n",
      "2022-01-26 - caution snow shoeing sign.jpg            \n"
     ]
    }
   ],
   "source": [
    "NB. last 10 images loaded\n",
    ";\"1 ] 10 {. (10 {.&.> RealDate) ,. (<' - ') ,. OnlineImageFile"
   ]
  },
  {
   "cell_type": "markdown",
   "metadata": {},
   "source": [
    "### Album Statistics"
   ]
  },
  {
   "cell_type": "code",
   "execution_count": 8,
   "metadata": {},
   "outputs": [
    {
     "name": "stdout",
     "output_type": "stream",
     "text": [
      "Idaho Instants                458\n",
      "The Way We Were               429\n",
      "Cell Phoning It In            339\n",
      "Weekenders                    320\n",
      "Missouri Moments              315\n",
      "California Captures           231\n",
      "My Kids                       195\n",
      "Montana Now and Then          165\n",
      "Image Hacking                 163\n",
      "Panoramas                     153\n"
     ]
    }
   ],
   "source": [
    "NB. 10 largest albumns\n",
    "10 {. (>AlbumName) ,. \": ,. >OnlineImageCount"
   ]
  },
  {
   "cell_type": "code",
   "execution_count": 9,
   "metadata": {},
   "outputs": [
    {
     "name": "stdout",
     "output_type": "stream",
     "text": [
      "sample size:          77\n",
      "minimum:               0\n",
      "maximum:             458\n",
      "1st quartile:         17\n",
      "2nd quartile:         48\n",
      "3rd quartile:        110\n",
      "first mode:            7\n",
      "first antimode:      458\n",
      "mean:            78.4545\n",
      "std devn:        94.7238\n",
      "skewness:         2.1989\n",
      "kurtosis:         8.0457\n"
     ]
    }
   ],
   "source": [
    "NB. album image counts\n",
    "dstat OnlineImageCount"
   ]
  },
  {
   "cell_type": "markdown",
   "metadata": {},
   "source": [
    "### Images per Year\n",
    "\n",
    "My image dates are a mixture of EXIF dates and manually assigned dates. The manually assigned dates are rarely accurate and reflect my best guess as to when a picture was taken. Many images do not have dates. They show up in year 0."
   ]
  },
  {
   "cell_type": "code",
   "execution_count": 10,
   "metadata": {},
   "outputs": [
    {
     "name": "stdout",
     "output_type": "stream",
     "text": [
      "2022  22, 2021 163, 2020  98, 2019 446, 2018 294, 2017 227, 2016 298, \n",
      "2015 207, 2014  98, 2013 172, 2012 178, 2011 217, 2010 152, 2009 144, \n",
      "2008 180, 2007 284, 2006 166, 2005 120, 2004 110, 2003  79, 2002 118, \n",
      "2001 135, 2000  33, 1999   6, 1996   1, 1995  19, 1994   8, 1993   8, \n",
      "1992  17, 1991  12, 1990   4, 1989  14, 1988   6, 1987  10, 1986   6, \n",
      "1985   4, 1984   2, 1983  42, 1982   4, 1981  37, 1980  17, 1979  90, \n",
      "1978  27, 1977  10, 1976  20, 1975   8, 1974  22, 1973   4, 1972   5, \n",
      "1971  23, 1970  33, 1969  22, 1968  45, 1967  32, 1966  24, 1965   5, \n",
      "1964  13, 1963   8, 1962  20, 1961   6, 1960   7, 1959  15, 1958  13, \n",
      "1957   7, 1956   6, 1955  11, 1954  10, 1953   4, 1952   6, 1951   3, \n",
      "1950   9, 1949  17, 1948  10, 1947   3, 1946   5, 1945   2, 1944   2, \n",
      "1943   1, 1942   1, 1941   7, 1940   6, 1939   2, 1938   3, 1937   2, \n",
      "1936   5, 1935   4, 1934   3, 1933   1, 1932   1, 1931   4, 1930   1, \n",
      "1929   1, 1928   1, 1927   2, 1925   2, 1924   1, 1920   2, 1919   2, \n",
      "1917   2, 1916   2, 1914   1, 1912   1, 1910   4, 1908   3, 1907   1, \n",
      "1906   2, 1905   3, 1902   2, 1901   1, 1900   1, 1897   1, 1894   1, \n",
      "1880   2, 1870   1, 1864   1,    0 180,                               \n"
     ]
    }
   ],
   "source": [
    "NB. images per year - year 0 means no date\n",
    "70 list ',' ,.~  \": rf=: \\:~ |: > freq 0 {\"1 rdt=: itYMDhms RealDate"
   ]
  },
  {
   "cell_type": "markdown",
   "metadata": {},
   "source": [
    "Images per year statistics since the year 2000. It was around 2000 that I started saving digital image files."
   ]
  },
  {
   "cell_type": "code",
   "execution_count": 11,
   "metadata": {},
   "outputs": [
    {
     "name": "stdout",
     "output_type": "stream",
     "text": [
      "sample size:           23\n",
      "minimum:               22\n",
      "maximum:              446\n",
      "1st quartile:         110\n",
      "2nd quartile:         163\n",
      "3rd quartile:         217\n",
      "first mode:            98\n",
      "first antimode:        22\n",
      "mean:            171.3478\n",
      "std devn:         94.9405\n",
      "skewness:          0.9878\n",
      "kurtosis:          4.3145\n"
     ]
    }
   ],
   "source": [
    "NB. images per year statistics for years after 1999\n",
    "dstat (1 {\"1 rf) #~ 1999 < 0 {\"1 rf"
   ]
  },
  {
   "cell_type": "markdown",
   "metadata": {},
   "source": [
    "### Uploads per Year\n",
    "\n",
    "I often upload old images that get counted in prior years. These counts reflect actual database inserts. Note the count of 724 in 2019. I did not insert that many images in 2019. The upload count probably reflects reorganizing existing images. The count of 1531 in 2009 marks the year I transferred my online images to SmugMug."
   ]
  },
  {
   "cell_type": "code",
   "execution_count": 12,
   "metadata": {},
   "outputs": [
    {
     "name": "stdout",
     "output_type": "stream",
     "text": [
      "2022   27, 2021  203, 2020  109, 2019  724, 2018  352, 2017  319, \n",
      "2016  362, 2015  222, 2014  102, 2013  256, 2012  233, 2011  314, \n",
      "2010  212, 2009 1531,                                             \n"
     ]
    }
   ],
   "source": [
    "70 list ',' ,.~  \": uf=: \\:~ |: > freq 0 {\"1 udt=: itYMDhms UploadDate"
   ]
  },
  {
   "cell_type": "code",
   "execution_count": 13,
   "metadata": {},
   "outputs": [
    {
     "name": "stdout",
     "output_type": "stream",
     "text": [
      "sample size:           12\n",
      "minimum:               27\n",
      "maximum:              362\n",
      "1st quartile:         156\n",
      "2nd quartile:       227.5\n",
      "3rd quartile:       316.5\n",
      "first mode:            27\n",
      "first antimode:        27\n",
      "mean:            225.9167\n",
      "std devn:        104.9333\n",
      "skewness:         _0.4392\n",
      "kurtosis:          2.2252\n"
     ]
    }
   ],
   "source": [
    "NB. uploads per year statistics - less outliers > 600\n",
    "dstat (1 {\"1 uf) #~ 600 > 1 {\"1 uf"
   ]
  },
  {
   "cell_type": "markdown",
   "metadata": {},
   "source": [
    "### `NotDivisible` counts\n",
    "\n",
    "`NotDivisible` counts how many images must be added to a gallery so that the total number of gallery images is evenly divisible by 3 and 5. The iPhone SmugMug app displays images in rows of 3 (portrait) or 5 (landscape) and I like completely filled rows. When the total is evenly divisible by 15 = 3 * 5 both portrait and landscape rows are filled."
   ]
  },
  {
   "cell_type": "code",
   "execution_count": 14,
   "metadata": {},
   "outputs": [
    {
     "name": "stdout",
     "output_type": "stream",
     "text": [
      "+-------+-+-+--+---------------------+\n",
      "|[Count]|3|5|15|[Album Name]         |\n",
      "+-------+-+-+--+---------------------+\n",
      "|163    |2|2|2 |Image Hacking        |\n",
      "+-------+-+-+--+---------------------+\n",
      "|458    |1|2|7 |Idaho Instants       |\n",
      "+-------+-+-+--+---------------------+\n",
      "|7      |2|3|8 |Does Not Fit         |\n",
      "+-------+-+-+--+---------------------+\n",
      "|7      |2|3|8 |Test Patterns        |\n",
      "+-------+-+-+--+---------------------+\n",
      "|7      |2|3|8 |Partial Restorations |\n",
      "+-------+-+-+--+---------------------+\n",
      "|22     |2|3|8 |To Much Information  |\n",
      "+-------+-+-+--+---------------------+\n",
      "|7      |2|3|8 |Fake Pixels          |\n",
      "+-------+-+-+--+---------------------+\n",
      "|64     |2|1|11|Banff and Jasper 2006|\n",
      "+-------+-+-+--+---------------------+\n",
      "|49     |2|1|11|New York 2005        |\n",
      "+-------+-+-+--+---------------------+\n"
     ]
    }
   ],
   "source": [
    "10 {. NotDivisible dbf"
   ]
  },
  {
   "cell_type": "markdown",
   "metadata": {},
   "source": [
    "### Color Keywords\n",
    "\n",
    "Keywords starting with `0_` are dominant color keys assigned by the Python `SmugPyter` program. "
   ]
  },
  {
   "cell_type": "code",
   "execution_count": 15,
   "metadata": {},
   "outputs": [
    {
     "name": "stdout",
     "output_type": "stream",
     "text": [
      "+----------------------+------------------+\n",
      "|ImageKeywordXr columns|+--------+-------+|\n",
      "|                      ||ImageKey|Keyword||\n",
      "|                      |+--------+-------+|\n",
      "+----------------------+------------------+\n"
     ]
    }
   ],
   "source": [
    "db=: sqlopen_psqlite_ dbf\n",
    "(;0{kw)=: ;1{kw=: sqlread__db 'select * from ImageKeywordXr'\n",
    "'ImageKeywordXr columns' ; 0{kw"
   ]
  },
  {
   "cell_type": "code",
   "execution_count": 16,
   "metadata": {},
   "outputs": [],
   "source": [
    "topbotk=: 4 : 0\n",
    "NB.topbotk v-- (x) top and bottom (y) keys\n",
    "kf=: ofreq y\n",
    "kf=: (' ' ,. >;0{kf) ,.~ \":>,.;1{kf\n",
    "(x {. kf) ,. |. (-x) {. kf\n",
    ")"
   ]
  },
  {
   "cell_type": "code",
   "execution_count": 17,
   "metadata": {},
   "outputs": [
    {
     "name": "stdout",
     "output_type": "stream",
     "text": [
      "511 0_darkslategrey         1 0_forestgreen         \n",
      "370 0_black                 1 0_aquamarine          \n",
      "244 0_darkolivegreen        1 0_magenta             \n",
      "229 0_dimgrey               1 0_lightyellow         \n",
      "224 0_steelblue             1 0_lawngreen           \n",
      "207 0_darkgrey              1 0_lavenderblush       \n",
      "185 0_rosybrown             1 0_indigo              \n",
      "177 0_gainsboro             1 0_lightgreen          \n",
      "174 0_lightsteelblue        1 0_springgreen         \n",
      "171 0_lightgrey             1 0_cyan                \n",
      "168 0_grey                  1 0_hotpink             \n",
      "154 0_tan                   1 0_darkmagenta         \n",
      "149 0_cornflowerblue        1 0_floralwhite         \n",
      "120 0_silver                1 0_cornsilk            \n",
      "118 0_lavender              1 0_mediumorchid        \n",
      " 86 0_lightslategrey        2 0_greenyellow         \n",
      " 85 0_sienna                2 0_lime                \n",
      " 81 0_peru                  2 0_limegreen           \n",
      " 77 0_saddlebrown           2 0_seashell            \n",
      " 77 0_skyblue               2 0_mediumblue          \n"
     ]
    }
   ],
   "source": [
    "NB. top/bottom 20 color keywords\n",
    "ColorKeys=: Keyword #~ ('0_'&-:)@(2&{.)&> Keyword\n",
    "20 topbotk ColorKeys"
   ]
  },
  {
   "cell_type": "markdown",
   "metadata": {},
   "source": [
    "### Print Size Keywords"
   ]
  },
  {
   "cell_type": "code",
   "execution_count": 18,
   "metadata": {},
   "outputs": [
    {
     "name": "stdout",
     "output_type": "stream",
     "text": [
      "939 4x6       1 2.25x4  \n",
      "847 5x7       1 8x32    \n",
      "538 8x12      1 10x16   \n",
      "274 5x6.7     1 8x40    \n",
      "259 10x15     1 12x30   \n",
      "249 6x8       1 6x24    \n",
      "198 3x4       1 16x24   \n",
      "151 2.5x3.5   1 3x3     \n",
      "133 4x5       1 5x8     \n",
      " 92 5x5       1 5.5x14  \n",
      " 64 6x10      1 9x21    \n",
      " 60 3x5       1 4x5.3   \n",
      " 52 2x3       1 2x2.5   \n",
      " 50 8x10      2 16x20   \n",
      " 28 4x4       2 12x24   \n",
      " 24 3.5x5     2 6x15    \n",
      " 23 8x8       2 10x13   \n",
      " 19 10x14     2 11x28   \n",
      " 13 6x6       2 8x10.6  \n",
      " 13 5x6       2 9x36    \n"
     ]
    }
   ],
   "source": [
    "NB. top/bottom 20 print size keywords\n",
    "SizeKeys=: ColorKeys -.~ Keyword #~ ({.&> Keyword) e.&> <'0123456789'\n",
    "NB. remove odd keys that do not follow name conventions\n",
    "NssKeys=: <;._1 ' 0z0 0z1'\n",
    "SizeKeys=: SizeKeys -. (<;._1 ' 50th'),NssKeys\n",
    "20 topbotk SizeKeys"
   ]
  },
  {
   "cell_type": "code",
   "execution_count": 19,
   "metadata": {},
   "outputs": [
    {
     "name": "stdout",
     "output_type": "stream",
     "text": [
      "+---+---+\n",
      "|0z0|258|\n",
      "+---+---+\n",
      "|0z1|466|\n",
      "+---+---+\n"
     ]
    }
   ],
   "source": [
    "NB. size keys that indicate not enough pixels or nonstandard aspect ratio\n",
    "NssKeys ,. <\"0 +/\"1 NssKeys =/ Keyword "
   ]
  },
  {
   "cell_type": "markdown",
   "metadata": {},
   "source": [
    "### Descriptive Keywords\n",
    "\n",
    "All keywords that are not color or size keys."
   ]
  },
  {
   "cell_type": "code",
   "execution_count": 20,
   "metadata": {},
   "outputs": [
    {
     "name": "stdout",
     "output_type": "stream",
     "text": [
      "1209 geotagged                     1 rafting                    \n",
      " 954 usa                           1 prayer                     \n",
      " 524 mali                          1 tooth                      \n",
      " 371 me                            1 saber                      \n",
      " 230 idaho                         1 columns                    \n",
      " 224 park                          1 remnants                   \n",
      " 202 iphone                        1 pictographs                \n",
      " 198 helen                         1 skeleton                   \n",
      " 180 lake                          1 sizes                      \n",
      " 172 river                         1 rafts                      \n",
      " 168 missouri                      1 dell                       \n",
      " 153 canada                        1 large                      \n",
      " 150 jacob                         1 josie                      \n",
      " 141 museum                        1 powers                     \n",
      " 125 montana                       1 fremont                    \n",
      " 121 ontario                       1 knife                      \n",
      " 111 sculpture                     1 hazhard                    \n",
      " 102 canyon                        1 lectern                    \n",
      "  99 evelyn                        1 bride                      \n",
      "  87 sun                           1 bedazzled                  \n"
     ]
    }
   ],
   "source": [
    "DescKeys=: Keyword -. ColorKeys,SizeKeys,NssKeys\n",
    "20 topbotk DescKeys"
   ]
  },
  {
   "cell_type": "markdown",
   "metadata": {},
   "source": [
    "### GPS Distances"
   ]
  },
  {
   "cell_type": "code",
   "execution_count": 21,
   "metadata": {},
   "outputs": [],
   "source": [
    "NB. longitude and latitude of home decimal degrees\n",
    "NB. western longitudes +, northern latitudes +\n",
    "MeeusHomeLonLat=: 116.375956 43.646775"
   ]
  },
  {
   "cell_type": "code",
   "execution_count": 22,
   "metadata": {},
   "outputs": [],
   "source": [
    "NB. distances in km from near to far excluding (0,0) lb\n",
    "NB. convert to Meeus lb convention for (earthdist)\n",
    "plb=: (i. #Longitude) ,. (-Longitude) ,. Latitude\n",
    "plb=: |: plb #~ -.0 0 -:\"1 ] 1 2 {\"1 plb\n",
    "plb=: /:~ (0{plb) ,.~ MeeusHomeLonLat earthdist 1 2{plb"
   ]
  },
  {
   "cell_type": "code",
   "execution_count": 23,
   "metadata": {},
   "outputs": [],
   "source": [
    "NB. format image distance\n",
    "fmdist=: {{;\"1 \":&.> (<\"0 ] 0.01 round 0 {\"1 y) ,. (<' - ') ,. (1 {\"1 y){OnlineImageFile}}"
   ]
  },
  {
   "cell_type": "code",
   "execution_count": 24,
   "metadata": {},
   "outputs": [
    {
     "name": "stdout",
     "output_type": "stream",
     "text": [
      "0.11 - neighborhood intersection park.jpg           \n",
      "0.12 - road end promises.jpg                        \n",
      "0.16 - not so burning bush.jpg                      \n",
      "0.32 - meridian irrigation canal.jpg                \n",
      "0.51 - mashed squirrel roadkill.jpg                 \n",
      "0.57 - school playground map.jpg                    \n",
      "0.64 - new meridian neighborhood.jpg                \n",
      "0.64 - territory drive house construction august.jpg\n",
      "0.64 - territory drive house building.jpg           \n",
      "0.85 - bogus latter day saints.jpg                  \n"
     ]
    }
   ],
   "source": [
    "NB. 10 nearest geotagged images km\n",
    "fmdist 10{.plb"
   ]
  },
  {
   "cell_type": "code",
   "execution_count": 25,
   "metadata": {},
   "outputs": [
    {
     "name": "stdout",
     "output_type": "stream",
     "text": [
      "15830.93 - pishi on pishi [47018603].jpg                      \n",
      "15487.74 - air malawi [42502530].jpg                          \n",
      "15477.27 - victoria falls hotel distance marker [36406766].jpg\n",
      "15476.92 - me livingstone statue [19983766].jpg               \n",
      "15476.82 - vic falls train station [51228396].jpg             \n",
      "15476.62 - curio market from balloon [49529252].jpg           \n",
      "15476.31 - mali sprayview hotel [51064919].jpg                \n",
      "15467.23 - me nude kafunta chalet [1157046406].jpg            \n",
      "15467.23 - kafunta lodge veranda [2486888].jpg                \n",
      "15466.71 - me livingstone airport [47004492].jpg              \n"
     ]
    }
   ],
   "source": [
    "NB. 10 furthest geotagged images km\n",
    "fmdist |. _10{.plb"
   ]
  },
  {
   "cell_type": "code",
   "execution_count": 26,
   "metadata": {},
   "outputs": [
    {
     "name": "stdout",
     "output_type": "stream",
     "text": [
      "sample size:          1209\n",
      "minimum:            0.1089\n",
      "maximum:         15830.934\n",
      "1st quartile:     448.8827\n",
      "2nd quartile:    1000.5581\n",
      "3rd quartile:    2258.4472\n",
      "first mode:       849.1692\n",
      "first antimode:     0.1089\n",
      "mean:            1830.7624\n",
      "std devn:        2554.3229\n",
      "skewness:            3.153\n",
      "kurtosis:          14.7608\n"
     ]
    }
   ],
   "source": [
    "NB. image distance statistics\n",
    "dstat 0 {\"1 plb"
   ]
  },
  {
   "cell_type": "code",
   "execution_count": 27,
   "metadata": {},
   "outputs": [],
   "source": [
    "NB. mean album geotagged image distances\n",
    "mad=: albdist 0"
   ]
  },
  {
   "cell_type": "code",
   "execution_count": 28,
   "metadata": {},
   "outputs": [
    {
     "name": "stdout",
     "output_type": "stream",
     "text": [
      "sample size:            59\n",
      "minimum:             4.051\n",
      "maximum:         15482.402\n",
      "1st quartile:     826.8154\n",
      "2nd quartile:      2198.38\n",
      "3rd quartile:     3203.335\n",
      "first mode:       930.5087\n",
      "first antimode:   930.5087\n",
      "mean:            3063.9695\n",
      "std devn:        3385.8262\n",
      "skewness:           1.8857\n",
      "kurtosis:           5.9996\n"
     ]
    }
   ],
   "source": [
    "NB. album \"centroid\" distance statistics\n",
    "dstat ;0 {\"1 mad"
   ]
  },
  {
   "cell_type": "code",
   "execution_count": 29,
   "metadata": {},
   "outputs": [],
   "source": [
    "NB.format album distances.\n",
    "fmtad=:{{('8.2'&(8!:2) ,. km) ,. ' - ' ,\"1 alb [ 'km alb'=. |: x {. y}}"
   ]
  },
  {
   "cell_type": "code",
   "execution_count": 30,
   "metadata": {},
   "outputs": [
    {
     "name": "stdout",
     "output_type": "stream",
     "text": [
      "    4.05 - Improvised Imaging Devices\n",
      "    9.88 - Camera Tests              \n",
      "  119.71 - Idaho Instants            \n",
      "  305.60 - Anne and Reza Visit       \n",
      "  371.43 - Collages                  \n",
      "  490.53 - Montana Now and Then      \n",
      "  503.38 - Logos Screenshots Covers  \n",
      "  535.33 - North by Northwest        \n",
      "  546.91 - Tetons Yellowstone 2013   \n",
      "  610.78 - From Hazel's Albums       \n"
     ]
    }
   ],
   "source": [
    "NB. 10 nearest albums\n",
    "10 fmtad /:~ mad"
   ]
  },
  {
   "cell_type": "code",
   "execution_count": 31,
   "metadata": {},
   "outputs": [
    {
     "name": "stdout",
     "output_type": "stream",
     "text": [
      "15482.40 - Zambia Eclipse Trip           \n",
      "11660.41 - Iran 1960's                   \n",
      "11272.49 - Ghana 1970's                  \n",
      "11225.88 - ACS School Trips 1960's       \n",
      "10963.97 - Beirut Lebanon 1960's         \n",
      " 8457.47 - South America 1979            \n",
      " 8409.77 - Enewetak Atoll 1980's         \n",
      " 6347.19 - Diving at Bellairs Barbados BW\n",
      " 6346.13 - Barbados Late 1970's          \n",
      " 6046.94 - GPS Extremes                  \n"
     ]
    }
   ],
   "source": [
    "NB. 10 furthest albums\n",
    "10 fmtad \\:~ mad"
   ]
  },
  {
   "cell_type": "code",
   "execution_count": 32,
   "metadata": {},
   "outputs": [
    {
     "name": "stdout",
     "output_type": "stream",
     "text": [
      "+-+---------+----+---------+-----+\n",
      "|1|closed ->|imex|smugpyter|utils|\n",
      "+-+---------+----+---------+-----+\n"
     ]
    }
   ],
   "source": [
    "3 od ''"
   ]
  }
 ],
 "metadata": {
  "kernelspec": {
   "display_name": "J",
   "language": "J",
   "name": "jkernel"
  },
  "language_info": {
   "file_extension": "ijs",
   "mimetype": "text/J",
   "name": "J"
  }
 },
 "nbformat": 4,
 "nbformat_minor": 2
}
